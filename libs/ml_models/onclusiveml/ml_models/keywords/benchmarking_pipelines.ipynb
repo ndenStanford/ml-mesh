{
 "cells": [
  {
   "cell_type": "code",
   "execution_count": 2,
   "metadata": {},
   "outputs": [],
   "source": [
    "from transformers.pipelines import pipeline\n",
    "from keybert import KeyBERT\n",
    "from onclusiveml.ml_compile import CompiledPipeline\n",
    "import torch_neuron"
   ]
  },
  {
   "cell_type": "code",
   "execution_count": 3,
   "metadata": {},
   "outputs": [],
   "source": [
    "hf_pipeline = pipeline(task='feature-extraction',model=\"sentence-transformers/paraphrase-multilingual-MiniLM-L12-v2\")"
   ]
  },
  {
   "cell_type": "code",
   "execution_count": 4,
   "metadata": {},
   "outputs": [
    {
     "name": "stdout",
     "output_type": "stream",
     "text": [
      "Reloaded\n"
     ]
    }
   ],
   "source": [
    "try:\n",
    "    compiled_pipeline_short = CompiledPipeline.from_pretrained('compiled_pipeline_short')\n",
    "    print('Reloaded')\n",
    "except:\n",
    "    print('Recompiling')\n",
    "    compiled_pipeline_short = CompiledPipeline.from_pipeline(pipeline=hf_pipeline,max_length=25, batch_size=1,neuron=True,validate_compilation=False)\n",
    "    compiled_pipeline_short.save_pretrained('compiled_pipeline_short')\n",
    "    print('Recompiled and exported')"
   ]
  },
  {
   "cell_type": "code",
   "execution_count": 5,
   "metadata": {},
   "outputs": [
    {
     "name": "stdout",
     "output_type": "stream",
     "text": [
      "Reloaded\n"
     ]
    }
   ],
   "source": [
    "try:\n",
    "    compiled_pipeline_medium = CompiledPipeline.from_pretrained('compiled_pipeline_medium')\n",
    "    print('Reloaded')\n",
    "except:\n",
    "    print('Recompiling')\n",
    "    compiled_pipeline_medium = CompiledPipeline.from_pipeline(pipeline=hf_pipeline,max_length=250, batch_size=1,neuron=True,validate_compilation=False)\n",
    "    compiled_pipeline_medium.save_pretrained('compiled_pipeline_medium')\n",
    "    print('Recompiled and exported')"
   ]
  },
  {
   "cell_type": "code",
   "execution_count": 6,
   "metadata": {},
   "outputs": [
    {
     "name": "stdout",
     "output_type": "stream",
     "text": [
      "Reloaded\n"
     ]
    }
   ],
   "source": [
    "try:\n",
    "    compiled_pipeline_long = CompiledPipeline.from_pretrained('compiled_pipeline_long')\n",
    "    print('Reloaded')\n",
    "except:\n",
    "    print('Recompiling')\n",
    "    compiled_pipeline_long = CompiledPipeline.from_pipeline(pipeline=hf_pipeline,max_length=500, batch_size=1,neuron=True,validate_compilation=False)\n",
    "    compiled_pipeline_long.save_pretrained('compiled_pipeline_long')\n",
    "    print('Recompiled and exported')"
   ]
  },
  {
   "cell_type": "code",
   "execution_count": 15,
   "metadata": {},
   "outputs": [
    {
     "name": "stdout",
     "output_type": "stream",
     "text": [
      "16\n",
      "80\n",
      "160\n",
      "240\n",
      "480\n"
     ]
    }
   ],
   "source": [
    "short_doc = 'this is a test sample for latency benchmarking ' * 2\n",
    "short_medium = short_doc * 5\n",
    "medium_doc = short_doc * 10\n",
    "medium_long_doc = short_doc * 15\n",
    "long_doc = medium_doc * 3\n",
    "\n",
    "docs ={\n",
    "    'doc_short':[short_doc,] * 5,\n",
    "    'doc_short_medium': [short_medium,] * 5,\n",
    "    'doc_medium':[medium_doc,] * 5,\n",
    "    'doc_medium_long': [medium_long_doc,] * 5,\n",
    "    'doc_long': [long_doc,] * 5\n",
    "}\n",
    "\n",
    "for doc in docs:\n",
    "    print(len(docs[doc][0].split()))"
   ]
  },
  {
   "cell_type": "code",
   "execution_count": 16,
   "metadata": {},
   "outputs": [
    {
     "name": "stdout",
     "output_type": "stream",
     "text": [
      "22\n",
      "102\n",
      "202\n",
      "302\n",
      "512\n"
     ]
    }
   ],
   "source": [
    "for doc in docs:\n",
    "    print(len(hf_pipeline.tokenizer(docs[doc][0],truncation=True)['input_ids']))"
   ]
  },
  {
   "cell_type": "code",
   "execution_count": 17,
   "metadata": {},
   "outputs": [
    {
     "data": {
      "text/plain": [
       "(25, 250, 500)"
      ]
     },
     "execution_count": 17,
     "metadata": {},
     "output_type": "execute_result"
    }
   ],
   "source": [
    "pipeline_samples = {\n",
    "    'uncompiled':hf_pipeline,\n",
    "    'compiled_short':compiled_pipeline_short,\n",
    "    'compiled_medium':compiled_pipeline_medium,\n",
    "    'compiled_long':compiled_pipeline_long\n",
    "}\n",
    "\n",
    "(compiled_pipeline_short.compiled_pipeline.model.compilation_specs['tracing__max_length'],\n",
    "compiled_pipeline_medium.compiled_pipeline.model.compilation_specs['tracing__max_length'],\n",
    "compiled_pipeline_long.compiled_pipeline.model.compilation_specs['tracing__max_length'])"
   ]
  },
  {
   "cell_type": "code",
   "execution_count": 18,
   "metadata": {},
   "outputs": [],
   "source": [
    "pipeline_results = {\n",
    "    'uncompiled':{},\n",
    "    'compiled_short':{},\n",
    "    'compiled_medium':{},\n",
    "    'compiled_long':{},\n",
    "    'n_tokens': {}\n",
    "}"
   ]
  },
  {
   "cell_type": "code",
   "execution_count": 19,
   "metadata": {},
   "outputs": [
    {
     "name": "stdout",
     "output_type": "stream",
     "text": [
      "Document: doc_short\n",
      "Pipeline: uncompiled\n",
      "Pipeline uncompiled duration: 0.049095802307128907\n",
      "---------------------------------------------------------------\n",
      "Pipeline: compiled_short\n",
      "Pipeline compiled_short duration: 0.014618668556213379\n",
      "---------------------------------------------------------------\n",
      "Pipeline: compiled_medium\n",
      "Pipeline compiled_medium duration: 0.07433931827545166\n",
      "---------------------------------------------------------------\n",
      "Pipeline: compiled_long\n",
      "Pipeline compiled_long duration: 0.23350279331207274\n",
      "---------------------------------------------------------------\n",
      "=============================================================\n",
      "Document: doc_short_medium\n",
      "Pipeline: uncompiled\n",
      "Pipeline uncompiled duration: 0.08046710014343261\n",
      "---------------------------------------------------------------\n",
      "Pipeline: compiled_short\n",
      "Pipeline compiled_short duration: 0.015561342239379883\n",
      "---------------------------------------------------------------\n",
      "Pipeline: compiled_medium\n",
      "Pipeline compiled_medium duration: 0.07355178833007812\n",
      "---------------------------------------------------------------\n",
      "Pipeline: compiled_long\n",
      "Pipeline compiled_long duration: 0.23388365268707276\n",
      "---------------------------------------------------------------\n",
      "=============================================================\n",
      "Document: doc_medium\n",
      "Pipeline: uncompiled\n",
      "Pipeline uncompiled duration: 0.1141474723815918\n",
      "---------------------------------------------------------------\n",
      "Pipeline: compiled_short\n",
      "Pipeline compiled_short duration: 0.016665339469909668\n",
      "---------------------------------------------------------------\n",
      "Pipeline: compiled_medium\n",
      "Pipeline compiled_medium duration: 0.07756951808929444\n",
      "---------------------------------------------------------------\n",
      "Pipeline: compiled_long\n",
      "Pipeline compiled_long duration: 0.23456191539764404\n",
      "---------------------------------------------------------------\n",
      "=============================================================\n",
      "Document: doc_medium_long\n",
      "Pipeline: uncompiled\n",
      "Pipeline uncompiled duration: 0.1649465560913086\n",
      "---------------------------------------------------------------\n",
      "Pipeline: compiled_short\n",
      "Pipeline compiled_short duration: 0.017794604301452636\n",
      "---------------------------------------------------------------\n",
      "Pipeline: compiled_medium\n",
      "Pipeline compiled_medium duration: 0.07356769561767579\n",
      "---------------------------------------------------------------\n",
      "Pipeline: compiled_long\n",
      "Pipeline compiled_long duration: 0.23227881908416748\n",
      "---------------------------------------------------------------\n",
      "=============================================================\n",
      "Document: doc_long\n",
      "Pipeline: uncompiled\n",
      "Pipeline uncompiled duration: 0.3121999883651733\n",
      "---------------------------------------------------------------\n",
      "Pipeline: compiled_short\n",
      "Pipeline compiled_short duration: 0.020886898040771484\n",
      "---------------------------------------------------------------\n",
      "Pipeline: compiled_medium\n",
      "Pipeline compiled_medium duration: 0.07698363304138184\n",
      "---------------------------------------------------------------\n",
      "Pipeline: compiled_long\n",
      "Pipeline compiled_long duration: 0.2393877124786377\n",
      "---------------------------------------------------------------\n",
      "=============================================================\n"
     ]
    }
   ],
   "source": [
    "import time\n",
    "\n",
    "n_runs = 50\n",
    "\n",
    "for doc_scenario in docs.keys():\n",
    "    \n",
    "    print(f'Document: {doc_scenario}')\n",
    "    pipeline_results['n_tokens'][doc_scenario] = len(hf_pipeline.tokenizer(docs[doc_scenario][0],truncation=True)['input_ids'])\n",
    "    \n",
    "    for pipeline_scenario in pipeline_samples.keys():\n",
    "        \n",
    "        print(f'Pipeline: {pipeline_scenario}')\n",
    "        \n",
    "        start = time.time()\n",
    "        \n",
    "        for i in range(n_runs):\n",
    "            pipeline_samples[pipeline_scenario](docs[doc_scenario],truncation=True)\n",
    "            \n",
    "        pipeline_results[pipeline_scenario][doc_scenario] = (time.time() - start) / n_runs\n",
    "        \n",
    "        print(f'Pipeline {pipeline_scenario} duration: {pipeline_results[pipeline_scenario][doc_scenario]}')\n",
    "        print('---------------------------------------------------------------')\n",
    "        time.sleep(2)\n",
    "        \n",
    "    print(f'=============================================================')"
   ]
  },
  {
   "cell_type": "code",
   "execution_count": 20,
   "metadata": {},
   "outputs": [
    {
     "data": {
      "text/html": [
       "<div>\n",
       "<style scoped>\n",
       "    .dataframe tbody tr th:only-of-type {\n",
       "        vertical-align: middle;\n",
       "    }\n",
       "\n",
       "    .dataframe tbody tr th {\n",
       "        vertical-align: top;\n",
       "    }\n",
       "\n",
       "    .dataframe thead th {\n",
       "        text-align: right;\n",
       "    }\n",
       "</style>\n",
       "<table border=\"1\" class=\"dataframe\">\n",
       "  <thead>\n",
       "    <tr style=\"text-align: right;\">\n",
       "      <th></th>\n",
       "      <th>uncompiled</th>\n",
       "      <th>compiled_short</th>\n",
       "      <th>compiled_medium</th>\n",
       "      <th>compiled_long</th>\n",
       "      <th>n_tokens</th>\n",
       "    </tr>\n",
       "  </thead>\n",
       "  <tbody>\n",
       "    <tr>\n",
       "      <th>doc_short</th>\n",
       "      <td>0.049096</td>\n",
       "      <td>0.014619</td>\n",
       "      <td>0.074339</td>\n",
       "      <td>0.233503</td>\n",
       "      <td>22</td>\n",
       "    </tr>\n",
       "    <tr>\n",
       "      <th>doc_short_medium</th>\n",
       "      <td>0.080467</td>\n",
       "      <td>0.015561</td>\n",
       "      <td>0.073552</td>\n",
       "      <td>0.233884</td>\n",
       "      <td>102</td>\n",
       "    </tr>\n",
       "    <tr>\n",
       "      <th>doc_medium</th>\n",
       "      <td>0.114147</td>\n",
       "      <td>0.016665</td>\n",
       "      <td>0.077570</td>\n",
       "      <td>0.234562</td>\n",
       "      <td>202</td>\n",
       "    </tr>\n",
       "    <tr>\n",
       "      <th>doc_medium_long</th>\n",
       "      <td>0.164947</td>\n",
       "      <td>0.017795</td>\n",
       "      <td>0.073568</td>\n",
       "      <td>0.232279</td>\n",
       "      <td>302</td>\n",
       "    </tr>\n",
       "    <tr>\n",
       "      <th>doc_long</th>\n",
       "      <td>0.312200</td>\n",
       "      <td>0.020887</td>\n",
       "      <td>0.076984</td>\n",
       "      <td>0.239388</td>\n",
       "      <td>512</td>\n",
       "    </tr>\n",
       "  </tbody>\n",
       "</table>\n",
       "</div>"
      ],
      "text/plain": [
       "                  uncompiled  compiled_short  compiled_medium  compiled_long  \\\n",
       "doc_short           0.049096        0.014619         0.074339       0.233503   \n",
       "doc_short_medium    0.080467        0.015561         0.073552       0.233884   \n",
       "doc_medium          0.114147        0.016665         0.077570       0.234562   \n",
       "doc_medium_long     0.164947        0.017795         0.073568       0.232279   \n",
       "doc_long            0.312200        0.020887         0.076984       0.239388   \n",
       "\n",
       "                  n_tokens  \n",
       "doc_short               22  \n",
       "doc_short_medium       102  \n",
       "doc_medium             202  \n",
       "doc_medium_long        302  \n",
       "doc_long               512  "
      ]
     },
     "execution_count": 20,
     "metadata": {},
     "output_type": "execute_result"
    }
   ],
   "source": [
    "import pandas as pd\n",
    "\n",
    "results_df = pd.DataFrame(pipeline_results)\n",
    "results_df"
   ]
  },
  {
   "cell_type": "code",
   "execution_count": 21,
   "metadata": {},
   "outputs": [],
   "source": [
    "for pipeline_scenario in ('uncompiled','compiled_short','compiled_medium','compiled_long'):\n",
    "    results_df[f'{pipeline_scenario}_milliseconds_per_non_trivial_token'] = (results_df[pipeline_scenario] / results_df['n_tokens']) * 1000"
   ]
  },
  {
   "cell_type": "code",
   "execution_count": 22,
   "metadata": {},
   "outputs": [
    {
     "data": {
      "text/html": [
       "<div>\n",
       "<style scoped>\n",
       "    .dataframe tbody tr th:only-of-type {\n",
       "        vertical-align: middle;\n",
       "    }\n",
       "\n",
       "    .dataframe tbody tr th {\n",
       "        vertical-align: top;\n",
       "    }\n",
       "\n",
       "    .dataframe thead th {\n",
       "        text-align: right;\n",
       "    }\n",
       "</style>\n",
       "<table border=\"1\" class=\"dataframe\">\n",
       "  <thead>\n",
       "    <tr style=\"text-align: right;\">\n",
       "      <th></th>\n",
       "      <th>n_tokens</th>\n",
       "      <th>uncompiled_milliseconds_per_non_trivial_token</th>\n",
       "      <th>compiled_short_milliseconds_per_non_trivial_token</th>\n",
       "      <th>compiled_medium_milliseconds_per_non_trivial_token</th>\n",
       "      <th>compiled_long_milliseconds_per_non_trivial_token</th>\n",
       "    </tr>\n",
       "  </thead>\n",
       "  <tbody>\n",
       "    <tr>\n",
       "      <th>doc_short</th>\n",
       "      <td>22</td>\n",
       "      <td>2.231627</td>\n",
       "      <td>0.664485</td>\n",
       "      <td>3.379060</td>\n",
       "      <td>10.613763</td>\n",
       "    </tr>\n",
       "    <tr>\n",
       "      <th>doc_short_medium</th>\n",
       "      <td>102</td>\n",
       "      <td>0.788893</td>\n",
       "      <td>0.152562</td>\n",
       "      <td>0.721096</td>\n",
       "      <td>2.292977</td>\n",
       "    </tr>\n",
       "    <tr>\n",
       "      <th>doc_medium</th>\n",
       "      <td>202</td>\n",
       "      <td>0.565086</td>\n",
       "      <td>0.082502</td>\n",
       "      <td>0.384008</td>\n",
       "      <td>1.161198</td>\n",
       "    </tr>\n",
       "    <tr>\n",
       "      <th>doc_medium_long</th>\n",
       "      <td>302</td>\n",
       "      <td>0.546181</td>\n",
       "      <td>0.058923</td>\n",
       "      <td>0.243602</td>\n",
       "      <td>0.769135</td>\n",
       "    </tr>\n",
       "    <tr>\n",
       "      <th>doc_long</th>\n",
       "      <td>512</td>\n",
       "      <td>0.609766</td>\n",
       "      <td>0.040795</td>\n",
       "      <td>0.150359</td>\n",
       "      <td>0.467554</td>\n",
       "    </tr>\n",
       "  </tbody>\n",
       "</table>\n",
       "</div>"
      ],
      "text/plain": [
       "                  n_tokens  uncompiled_milliseconds_per_non_trivial_token  \\\n",
       "doc_short               22                                       2.231627   \n",
       "doc_short_medium       102                                       0.788893   \n",
       "doc_medium             202                                       0.565086   \n",
       "doc_medium_long        302                                       0.546181   \n",
       "doc_long               512                                       0.609766   \n",
       "\n",
       "                  compiled_short_milliseconds_per_non_trivial_token  \\\n",
       "doc_short                                                  0.664485   \n",
       "doc_short_medium                                           0.152562   \n",
       "doc_medium                                                 0.082502   \n",
       "doc_medium_long                                            0.058923   \n",
       "doc_long                                                   0.040795   \n",
       "\n",
       "                  compiled_medium_milliseconds_per_non_trivial_token  \\\n",
       "doc_short                                                  3.379060    \n",
       "doc_short_medium                                           0.721096    \n",
       "doc_medium                                                 0.384008    \n",
       "doc_medium_long                                            0.243602    \n",
       "doc_long                                                   0.150359    \n",
       "\n",
       "                  compiled_long_milliseconds_per_non_trivial_token  \n",
       "doc_short                                                10.613763  \n",
       "doc_short_medium                                          2.292977  \n",
       "doc_medium                                                1.161198  \n",
       "doc_medium_long                                           0.769135  \n",
       "doc_long                                                  0.467554  "
      ]
     },
     "execution_count": 22,
     "metadata": {},
     "output_type": "execute_result"
    }
   ],
   "source": [
    "results_df.iloc[:,4:]"
   ]
  },
  {
   "attachments": {},
   "cell_type": "markdown",
   "metadata": {},
   "source": [
    "- n_tokens ~ 20 -> compile at 25 gives 3x-4x speedup\n",
    "- n_tokens ~ 100 -> compile at 250 gives ~ 1.5 speedup\n",
    "- n_tokens ~ 200 - 300 -> compile at 250 gives ~ 2x speedup\n",
    "- n_tokens >= 400 -> compile at 512 is ~ 1x"
   ]
  },
  {
   "cell_type": "markdown",
   "metadata": {},
   "source": []
  }
 ],
 "metadata": {
  "kernelspec": {
   "display_name": ".venv",
   "language": "python",
   "name": "python3"
  },
  "language_info": {
   "codemirror_mode": {
    "name": "ipython",
    "version": 3
   },
   "file_extension": ".py",
   "mimetype": "text/x-python",
   "name": "python",
   "nbconvert_exporter": "python",
   "pygments_lexer": "ipython3",
   "version": "3.8.16"
  },
  "orig_nbformat": 4
 },
 "nbformat": 4,
 "nbformat_minor": 2
}
