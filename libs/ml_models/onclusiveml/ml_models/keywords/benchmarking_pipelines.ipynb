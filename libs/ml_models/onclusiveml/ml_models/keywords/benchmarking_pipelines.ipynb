{
 "cells": [
  {
   "cell_type": "code",
   "execution_count": 1,
   "metadata": {},
   "outputs": [
    {
     "name": "stderr",
     "output_type": "stream",
     "text": [
      "/home/ec2-user/repositories/ml-mesh/.venv/lib/python3.8/site-packages/tqdm/auto.py:21: TqdmWarning: IProgress not found. Please update jupyter and ipywidgets. See https://ipywidgets.readthedocs.io/en/stable/user_install.html\n",
      "  from .autonotebook import tqdm as notebook_tqdm\n"
     ]
    }
   ],
   "source": [
    "from transformers.pipelines import pipeline\n",
    "from keybert import KeyBERT\n",
    "from onclusiveml.ml_compile import CompiledPipeline\n",
    "import torch_neuron"
   ]
  },
  {
   "cell_type": "code",
   "execution_count": 2,
   "metadata": {},
   "outputs": [],
   "source": [
    "hf_pipeline = pipeline(task='feature-extraction',model=\"sentence-transformers/paraphrase-multilingual-MiniLM-L12-v2\")"
   ]
  },
  {
   "cell_type": "code",
   "execution_count": 3,
   "metadata": {},
   "outputs": [
    {
     "name": "stdout",
     "output_type": "stream",
     "text": [
      "Reloaded\n"
     ]
    }
   ],
   "source": [
    "try:\n",
    "    compiled_pipeline_short = CompiledPipeline.from_pretrained('compiled_pipeline_short')\n",
    "    print('Reloaded')\n",
    "except:\n",
    "    print('Recompiling')\n",
    "    compiled_pipeline_short = CompiledPipeline.from_pipeline(pipeline=hf_pipeline,max_length=25, batch_size=1,neuron=True,validate_compilation=False)\n",
    "    compiled_pipeline_short.save_pretrained('compiled_pipeline_short')\n",
    "    print('Recompiled and exported')"
   ]
  },
  {
   "cell_type": "code",
   "execution_count": 4,
   "metadata": {},
   "outputs": [
    {
     "name": "stdout",
     "output_type": "stream",
     "text": [
      "Reloaded\n"
     ]
    }
   ],
   "source": [
    "try:\n",
    "    compiled_pipeline_medium = CompiledPipeline.from_pretrained('compiled_pipeline_medium')\n",
    "    print('Reloaded')\n",
    "except:\n",
    "    print('Recompiling')\n",
    "    compiled_pipeline_medium = CompiledPipeline.from_pipeline(pipeline=hf_pipeline,max_length=250, batch_size=1,neuron=True,validate_compilation=False)\n",
    "    compiled_pipeline_medium.save_pretrained('compiled_pipeline_medium')\n",
    "    print('Recompiled and exported')"
   ]
  },
  {
   "cell_type": "code",
   "execution_count": 5,
   "metadata": {},
   "outputs": [
    {
     "name": "stdout",
     "output_type": "stream",
     "text": [
      "Reloaded\n"
     ]
    }
   ],
   "source": [
    "try:\n",
    "    compiled_pipeline_long = CompiledPipeline.from_pretrained('compiled_pipeline_long')\n",
    "    print('Reloaded')\n",
    "except:\n",
    "    print('Recompiling')\n",
    "    compiled_pipeline_long = CompiledPipeline.from_pipeline(pipeline=hf_pipeline,max_length=500, batch_size=1,neuron=True,validate_compilation=False)\n",
    "    compiled_pipeline_long.save_pretrained('compiled_pipeline_long')\n",
    "    print('Recompiled and exported')"
   ]
  },
  {
   "cell_type": "code",
   "execution_count": 6,
   "metadata": {},
   "outputs": [
    {
     "name": "stdout",
     "output_type": "stream",
     "text": [
      "16\n",
      "80\n",
      "160\n",
      "240\n",
      "480\n"
     ]
    }
   ],
   "source": [
    "short_doc = 'this is a test sample for latency benchmarking ' * 2\n",
    "short_medium = short_doc * 5\n",
    "medium_doc = short_doc * 10\n",
    "medium_long_doc = short_doc * 15\n",
    "long_doc = medium_doc * 3\n",
    "\n",
    "docs ={\n",
    "    'doc_short':[short_doc,] * 5,\n",
    "    'doc_short_medium': [short_medium,] * 5,\n",
    "    'doc_medium':[medium_doc,] * 5,\n",
    "    'doc_medium_long': [medium_long_doc,] * 5,\n",
    "    'doc_long': [long_doc,] * 5\n",
    "}\n",
    "\n",
    "for doc in docs:\n",
    "    print(len(docs[doc][0].split()))"
   ]
  },
  {
   "cell_type": "code",
   "execution_count": 7,
   "metadata": {},
   "outputs": [
    {
     "name": "stdout",
     "output_type": "stream",
     "text": [
      "22\n",
      "102\n",
      "202\n",
      "302\n",
      "512\n"
     ]
    }
   ],
   "source": [
    "for doc in docs:\n",
    "    print(len(hf_pipeline.tokenizer(docs[doc][0],truncation=True)['input_ids']))"
   ]
  },
  {
   "cell_type": "code",
   "execution_count": 8,
   "metadata": {},
   "outputs": [
    {
     "data": {
      "text/plain": [
       "(25, 250, 500)"
      ]
     },
     "execution_count": 8,
     "metadata": {},
     "output_type": "execute_result"
    }
   ],
   "source": [
    "pipeline_samples = {\n",
    "    'uncompiled':hf_pipeline,\n",
    "    'compiled_short':compiled_pipeline_short,\n",
    "    'compiled_medium':compiled_pipeline_medium,\n",
    "    'compiled_long':compiled_pipeline_long\n",
    "}\n",
    "\n",
    "(compiled_pipeline_short.compiled_pipeline.model.compilation_specs['tracing__max_length'],\n",
    "compiled_pipeline_medium.compiled_pipeline.model.compilation_specs['tracing__max_length'],\n",
    "compiled_pipeline_long.compiled_pipeline.model.compilation_specs['tracing__max_length'])"
   ]
  },
  {
   "cell_type": "code",
   "execution_count": 9,
   "metadata": {},
   "outputs": [],
   "source": [
    "pipeline_results = {\n",
    "    'uncompiled':{},\n",
    "    'compiled_short':{},\n",
    "    'compiled_medium':{},\n",
    "    'compiled_long':{},\n",
    "    'n_tokens': {}\n",
    "}"
   ]
  },
  {
   "cell_type": "code",
   "execution_count": 10,
   "metadata": {},
   "outputs": [
    {
     "name": "stdout",
     "output_type": "stream",
     "text": [
      "Document: doc_short\n",
      "Pipeline: uncompiled\n",
      "Pipeline uncompiled duration: 0.047734155654907226\n",
      "---------------------------------------------------------------\n",
      "Pipeline: compiled_short\n",
      "Pipeline compiled_short duration: 0.015323305130004882\n",
      "---------------------------------------------------------------\n",
      "Pipeline: compiled_medium\n",
      "Pipeline compiled_medium duration: 0.07378016948699952\n",
      "---------------------------------------------------------------\n",
      "Pipeline: compiled_long\n",
      "Pipeline compiled_long duration: 0.23576385021209717\n",
      "---------------------------------------------------------------\n",
      "=============================================================\n",
      "Document: doc_short_medium\n",
      "Pipeline: uncompiled\n",
      "Pipeline uncompiled duration: 0.07844781398773193\n",
      "---------------------------------------------------------------\n",
      "Pipeline: compiled_short\n",
      "Pipeline compiled_short duration: 0.015454797744750977\n",
      "---------------------------------------------------------------\n",
      "Pipeline: compiled_medium\n",
      "Pipeline compiled_medium duration: 0.07171805858612061\n",
      "---------------------------------------------------------------\n",
      "Pipeline: compiled_long\n",
      "Pipeline compiled_long duration: 0.23041770458221436\n",
      "---------------------------------------------------------------\n",
      "=============================================================\n",
      "Document: doc_medium\n",
      "Pipeline: uncompiled\n",
      "Pipeline uncompiled duration: 0.11376121997833252\n",
      "---------------------------------------------------------------\n",
      "Pipeline: compiled_short\n",
      "Pipeline compiled_short duration: 0.016572346687316896\n",
      "---------------------------------------------------------------\n",
      "Pipeline: compiled_medium\n",
      "Pipeline compiled_medium duration: 0.07215490341186523\n",
      "---------------------------------------------------------------\n",
      "Pipeline: compiled_long\n",
      "Pipeline compiled_long duration: 0.233179931640625\n",
      "---------------------------------------------------------------\n",
      "=============================================================\n",
      "Document: doc_medium_long\n",
      "Pipeline: uncompiled\n",
      "Pipeline uncompiled duration: 0.16061706066131592\n",
      "---------------------------------------------------------------\n",
      "Pipeline: compiled_short\n",
      "Pipeline compiled_short duration: 0.017675366401672363\n",
      "---------------------------------------------------------------\n",
      "Pipeline: compiled_medium\n",
      "Pipeline compiled_medium duration: 0.07334904670715332\n",
      "---------------------------------------------------------------\n",
      "Pipeline: compiled_long\n",
      "Pipeline compiled_long duration: 0.23164260387420654\n",
      "---------------------------------------------------------------\n",
      "=============================================================\n",
      "Document: doc_long\n",
      "Pipeline: uncompiled\n",
      "Pipeline uncompiled duration: 0.29523156642913817\n",
      "---------------------------------------------------------------\n",
      "Pipeline: compiled_short\n",
      "Pipeline compiled_short duration: 0.020750226974487303\n",
      "---------------------------------------------------------------\n",
      "Pipeline: compiled_medium\n",
      "Pipeline compiled_medium duration: 0.07678676128387452\n",
      "---------------------------------------------------------------\n",
      "Pipeline: compiled_long\n",
      "Pipeline compiled_long duration: 0.23297625541687011\n",
      "---------------------------------------------------------------\n",
      "=============================================================\n"
     ]
    }
   ],
   "source": [
    "import time\n",
    "\n",
    "n_runs = 50\n",
    "\n",
    "for doc_scenario in docs.keys():\n",
    "    \n",
    "    print(f'Document: {doc_scenario}')\n",
    "    pipeline_results['n_tokens'][doc_scenario] = len(hf_pipeline.tokenizer(docs[doc_scenario][0],truncation=True)['input_ids'])\n",
    "    \n",
    "    for pipeline_scenario in pipeline_samples.keys():\n",
    "        \n",
    "        print(f'Pipeline: {pipeline_scenario}')\n",
    "        \n",
    "        start = time.time()\n",
    "        \n",
    "        for i in range(n_runs):\n",
    "            pipeline_samples[pipeline_scenario](docs[doc_scenario],truncation=True)\n",
    "            \n",
    "        pipeline_results[pipeline_scenario][doc_scenario] = (time.time() - start) / n_runs\n",
    "        \n",
    "        print(f'Pipeline {pipeline_scenario} duration: {pipeline_results[pipeline_scenario][doc_scenario]}')\n",
    "        print('---------------------------------------------------------------')\n",
    "        time.sleep(2)\n",
    "        \n",
    "    print(f'=============================================================')"
   ]
  },
  {
   "cell_type": "code",
   "execution_count": 11,
   "metadata": {},
   "outputs": [
    {
     "data": {
      "text/html": [
       "<div>\n",
       "<style scoped>\n",
       "    .dataframe tbody tr th:only-of-type {\n",
       "        vertical-align: middle;\n",
       "    }\n",
       "\n",
       "    .dataframe tbody tr th {\n",
       "        vertical-align: top;\n",
       "    }\n",
       "\n",
       "    .dataframe thead th {\n",
       "        text-align: right;\n",
       "    }\n",
       "</style>\n",
       "<table border=\"1\" class=\"dataframe\">\n",
       "  <thead>\n",
       "    <tr style=\"text-align: right;\">\n",
       "      <th></th>\n",
       "      <th>uncompiled</th>\n",
       "      <th>compiled_short</th>\n",
       "      <th>compiled_medium</th>\n",
       "      <th>compiled_long</th>\n",
       "      <th>n_tokens</th>\n",
       "    </tr>\n",
       "  </thead>\n",
       "  <tbody>\n",
       "    <tr>\n",
       "      <th>doc_short</th>\n",
       "      <td>0.047734</td>\n",
       "      <td>0.015323</td>\n",
       "      <td>0.073780</td>\n",
       "      <td>0.235764</td>\n",
       "      <td>22</td>\n",
       "    </tr>\n",
       "    <tr>\n",
       "      <th>doc_short_medium</th>\n",
       "      <td>0.078448</td>\n",
       "      <td>0.015455</td>\n",
       "      <td>0.071718</td>\n",
       "      <td>0.230418</td>\n",
       "      <td>102</td>\n",
       "    </tr>\n",
       "    <tr>\n",
       "      <th>doc_medium</th>\n",
       "      <td>0.113761</td>\n",
       "      <td>0.016572</td>\n",
       "      <td>0.072155</td>\n",
       "      <td>0.233180</td>\n",
       "      <td>202</td>\n",
       "    </tr>\n",
       "    <tr>\n",
       "      <th>doc_medium_long</th>\n",
       "      <td>0.160617</td>\n",
       "      <td>0.017675</td>\n",
       "      <td>0.073349</td>\n",
       "      <td>0.231643</td>\n",
       "      <td>302</td>\n",
       "    </tr>\n",
       "    <tr>\n",
       "      <th>doc_long</th>\n",
       "      <td>0.295232</td>\n",
       "      <td>0.020750</td>\n",
       "      <td>0.076787</td>\n",
       "      <td>0.232976</td>\n",
       "      <td>512</td>\n",
       "    </tr>\n",
       "  </tbody>\n",
       "</table>\n",
       "</div>"
      ],
      "text/plain": [
       "                  uncompiled  compiled_short  compiled_medium  compiled_long  \\\n",
       "doc_short           0.047734        0.015323         0.073780       0.235764   \n",
       "doc_short_medium    0.078448        0.015455         0.071718       0.230418   \n",
       "doc_medium          0.113761        0.016572         0.072155       0.233180   \n",
       "doc_medium_long     0.160617        0.017675         0.073349       0.231643   \n",
       "doc_long            0.295232        0.020750         0.076787       0.232976   \n",
       "\n",
       "                  n_tokens  \n",
       "doc_short               22  \n",
       "doc_short_medium       102  \n",
       "doc_medium             202  \n",
       "doc_medium_long        302  \n",
       "doc_long               512  "
      ]
     },
     "execution_count": 11,
     "metadata": {},
     "output_type": "execute_result"
    }
   ],
   "source": [
    "import pandas as pd\n",
    "\n",
    "results_df = pd.DataFrame(pipeline_results)\n",
    "results_df"
   ]
  },
  {
   "cell_type": "code",
   "execution_count": 12,
   "metadata": {},
   "outputs": [],
   "source": [
    "for pipeline_scenario in ('uncompiled','compiled_short','compiled_medium','compiled_long'):\n",
    "    results_df[f'{pipeline_scenario}_milliseconds_per_non_trivial_token'] = (results_df[pipeline_scenario] / results_df['n_tokens']) * 1000"
   ]
  },
  {
   "cell_type": "code",
   "execution_count": 13,
   "metadata": {},
   "outputs": [
    {
     "data": {
      "text/html": [
       "<div>\n",
       "<style scoped>\n",
       "    .dataframe tbody tr th:only-of-type {\n",
       "        vertical-align: middle;\n",
       "    }\n",
       "\n",
       "    .dataframe tbody tr th {\n",
       "        vertical-align: top;\n",
       "    }\n",
       "\n",
       "    .dataframe thead th {\n",
       "        text-align: right;\n",
       "    }\n",
       "</style>\n",
       "<table border=\"1\" class=\"dataframe\">\n",
       "  <thead>\n",
       "    <tr style=\"text-align: right;\">\n",
       "      <th></th>\n",
       "      <th>n_tokens</th>\n",
       "      <th>uncompiled_milliseconds_per_non_trivial_token</th>\n",
       "      <th>compiled_short_milliseconds_per_non_trivial_token</th>\n",
       "      <th>compiled_medium_milliseconds_per_non_trivial_token</th>\n",
       "      <th>compiled_long_milliseconds_per_non_trivial_token</th>\n",
       "    </tr>\n",
       "  </thead>\n",
       "  <tbody>\n",
       "    <tr>\n",
       "      <th>doc_short</th>\n",
       "      <td>22</td>\n",
       "      <td>2.169734</td>\n",
       "      <td>0.696514</td>\n",
       "      <td>3.353644</td>\n",
       "      <td>10.716539</td>\n",
       "    </tr>\n",
       "    <tr>\n",
       "      <th>doc_short_medium</th>\n",
       "      <td>102</td>\n",
       "      <td>0.769096</td>\n",
       "      <td>0.151518</td>\n",
       "      <td>0.703118</td>\n",
       "      <td>2.258997</td>\n",
       "    </tr>\n",
       "    <tr>\n",
       "      <th>doc_medium</th>\n",
       "      <td>202</td>\n",
       "      <td>0.563174</td>\n",
       "      <td>0.082041</td>\n",
       "      <td>0.357202</td>\n",
       "      <td>1.154356</td>\n",
       "    </tr>\n",
       "    <tr>\n",
       "      <th>doc_medium_long</th>\n",
       "      <td>302</td>\n",
       "      <td>0.531845</td>\n",
       "      <td>0.058528</td>\n",
       "      <td>0.242878</td>\n",
       "      <td>0.767028</td>\n",
       "    </tr>\n",
       "    <tr>\n",
       "      <th>doc_long</th>\n",
       "      <td>512</td>\n",
       "      <td>0.576624</td>\n",
       "      <td>0.040528</td>\n",
       "      <td>0.149974</td>\n",
       "      <td>0.455032</td>\n",
       "    </tr>\n",
       "  </tbody>\n",
       "</table>\n",
       "</div>"
      ],
      "text/plain": [
       "                  n_tokens  uncompiled_milliseconds_per_non_trivial_token  \\\n",
       "doc_short               22                                       2.169734   \n",
       "doc_short_medium       102                                       0.769096   \n",
       "doc_medium             202                                       0.563174   \n",
       "doc_medium_long        302                                       0.531845   \n",
       "doc_long               512                                       0.576624   \n",
       "\n",
       "                  compiled_short_milliseconds_per_non_trivial_token  \\\n",
       "doc_short                                                  0.696514   \n",
       "doc_short_medium                                           0.151518   \n",
       "doc_medium                                                 0.082041   \n",
       "doc_medium_long                                            0.058528   \n",
       "doc_long                                                   0.040528   \n",
       "\n",
       "                  compiled_medium_milliseconds_per_non_trivial_token  \\\n",
       "doc_short                                                  3.353644    \n",
       "doc_short_medium                                           0.703118    \n",
       "doc_medium                                                 0.357202    \n",
       "doc_medium_long                                            0.242878    \n",
       "doc_long                                                   0.149974    \n",
       "\n",
       "                  compiled_long_milliseconds_per_non_trivial_token  \n",
       "doc_short                                                10.716539  \n",
       "doc_short_medium                                          2.258997  \n",
       "doc_medium                                                1.154356  \n",
       "doc_medium_long                                           0.767028  \n",
       "doc_long                                                  0.455032  "
      ]
     },
     "execution_count": 13,
     "metadata": {},
     "output_type": "execute_result"
    }
   ],
   "source": [
    "results_df.iloc[:,4:]"
   ]
  },
  {
   "attachments": {},
   "cell_type": "markdown",
   "metadata": {},
   "source": [
    "- n_tokens ~ 20 -> compile at 25 gives 3x-4x speedup\n",
    "- n_tokens ~ 100 -> compile at 250 gives ~ 1.5 speedup\n",
    "- n_tokens ~ 200 - 300 -> compile at 250 gives ~ 2x speedup\n",
    "- n_tokens >= 400 -> compile at 512 is ~ 1x"
   ]
  },
  {
   "cell_type": "markdown",
   "metadata": {},
   "source": []
  }
 ],
 "metadata": {
  "kernelspec": {
   "display_name": ".venv",
   "language": "python",
   "name": "python3"
  },
  "language_info": {
   "codemirror_mode": {
    "name": "ipython",
    "version": 3
   },
   "file_extension": ".py",
   "mimetype": "text/x-python",
   "name": "python",
   "nbconvert_exporter": "python",
   "pygments_lexer": "ipython3",
   "version": "3.8.16"
  },
  "orig_nbformat": 4
 },
 "nbformat": 4,
 "nbformat_minor": 2
}
