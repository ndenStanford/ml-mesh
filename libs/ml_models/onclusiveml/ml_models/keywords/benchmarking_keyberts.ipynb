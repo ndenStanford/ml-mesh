{
 "cells": [
  {
   "cell_type": "code",
   "execution_count": 11,
   "metadata": {},
   "outputs": [],
   "source": [
    "from transformers.pipelines import pipeline\n",
    "from keybert import KeyBERT\n",
    "from onclusiveml.ml_compile import CompiledPipeline\n",
    "from onclusiveml.ml_models.keywords import CompiledKeyBERT\n",
    "import torch_neuron"
   ]
  },
  {
   "cell_type": "code",
   "execution_count": 5,
   "metadata": {},
   "outputs": [],
   "source": [
    "hf_pipeline = pipeline(task='feature-extraction',model=\"sentence-transformers/paraphrase-multilingual-MiniLM-L12-v2\")"
   ]
  },
  {
   "cell_type": "code",
   "execution_count": 6,
   "metadata": {},
   "outputs": [],
   "source": [
    "keybert = KeyBERT(model=hf_pipeline)"
   ]
  },
  {
   "cell_type": "code",
   "execution_count": 13,
   "metadata": {},
   "outputs": [
    {
     "name": "stdout",
     "output_type": "stream",
     "text": [
      "Reloaded\n"
     ]
    }
   ],
   "source": [
    "try:\n",
    "    compiled_pipeline_short = CompiledPipeline.from_pretrained('compiled_pipeline_short')\n",
    "    print('Reloaded')\n",
    "except:\n",
    "    print('Recompiling')\n",
    "    compiled_pipeline_short = CompiledPipeline.from_pipeline(pipeline=hf_pipeline,max_length=25, batch_size=1,neuron=True,validate_compilation=False)\n",
    "    compiled_pipeline_short.save_pretrained('compiled_pipeline_short')\n",
    "    print('Recompiled and exported')"
   ]
  },
  {
   "cell_type": "code",
   "execution_count": 14,
   "metadata": {},
   "outputs": [
    {
     "name": "stdout",
     "output_type": "stream",
     "text": [
      ".Reloaded\n"
     ]
    }
   ],
   "source": [
    "try:\n",
    "    compiled_pipeline_medium = CompiledPipeline.from_pretrained('compiled_pipeline_medium')\n",
    "    print('Reloaded')\n",
    "except:\n",
    "    print('Recompiling')\n",
    "    compiled_pipeline_medium = CompiledPipeline.from_pipeline(pipeline=hf_pipeline,max_length=250, batch_size=1,neuron=True,validate_compilation=False)\n",
    "    compiled_pipeline_medium.save_pretrained('compiled_pipeline_medium')\n",
    "    print('Recompiled and exported')"
   ]
  },
  {
   "cell_type": "code",
   "execution_count": 15,
   "metadata": {},
   "outputs": [
    {
     "name": "stdout",
     "output_type": "stream",
     "text": [
      "Reloaded\n"
     ]
    }
   ],
   "source": [
    "try:\n",
    "    compiled_pipeline_long = CompiledPipeline.from_pretrained('compiled_pipeline_long')\n",
    "    print('Reloaded')\n",
    "except:\n",
    "    print('Recompiling')\n",
    "    compiled_pipeline_long = CompiledPipeline.from_pipeline(pipeline=hf_pipeline,max_length=500, batch_size=1,neuron=True,validate_compilation=False)\n",
    "    compiled_pipeline_long.save_pretrained('compiled_pipeline_long')\n",
    "    print('Recompiled and exported')"
   ]
  },
  {
   "cell_type": "code",
   "execution_count": 110,
   "metadata": {},
   "outputs": [
    {
     "name": "stdout",
     "output_type": "stream",
     "text": [
      "17\n",
      "75\n",
      "135\n",
      "194\n",
      "347\n"
     ]
    }
   ],
   "source": [
    "short_doc = \"I'm reading a book on the history of glue. I just can't seem to put it down.\"\n",
    "short_medium = \"Flowers are not only visually pleasing, but they are also used to enhance the aesthetic appeal of homes and gardens. Flowers are a symbol of love and affection and are often given as gifts to loved ones. The fragrance of flowers is known to lift moods and calm anxiety. In addition, flowers are essential to pollination, a process that helps in the reproduction of plants. Overall, flowers are beautiful, therapeutic, and essential to the ecosystem.\"\n",
    "medium_doc = \"\"\"Flowers come in different shapes, sizes, and colors, and their beauty has captivated humans for centuries. Apart from their aesthetic appeal, flowers are also essential to the ecosystem, playing a vital role in pollination necessary for the growth of crops and maintaining genetic diversity of plant species.\n",
    "Flowers have therapeutic properties and are used in traditional medicine for centuries. Chamomile, lavender, and marigold have soothing effects on the mind and body. The fragrance of flowers is calming, and they are used in aromatherapy worldwide.\n",
    "Flowers have cultural and emotional significance, often used in religious ceremonies, weddings, and funerals. Different flowers have symbolic meanings, such as lilies representing purity and innocence. Flowers are also a significant part of home decor, adding charm and personality to homes and gardens.\n",
    "In conclusion, flowers have multiple dimensions of significance.\"\"\"\n",
    "medium_long_doc = \"\"\"Flowers are nature's way of displaying beauty and elegance. They come in various colors, shapes, and sizes, and their attractiveness has fascinated humans for centuries. However, flowers have more to offer than their aesthetic value, and they play a crucial role in the ecosystem.\n",
    "Flowers are the reproductive organs of plants, and they play a vital role in pollination. They produce nectar and pollen that attract pollinators such as bees, butterflies, and hummingbirds, who transfer pollen from the stamen to the stigma of the flowers. This process helps in the fertilization of plants and is essential for the growth of crops and other vegetation. Flowers also ensure the genetic diversity of plant species.\n",
    "For example, roses are associated with love and passion, while lilies represent purity and innocence. Flowers are also used to express emotions like joy, gratitude, and sympathy.\n",
    "Moreover, flowers have an essential aesthetic value. They add color, charm, and personality to homes and gardens. The beauty of flowers is mesmerizing and captivating, and it has a calming effect on the mind and soul. Flowers arrangements, whether simple or elaborate, have a significant impact on the overall aesthetic appeal of a space.\"\"\"\n",
    "long_doc = \"\"\"Flowers are nature's way of displaying beauty and elegance. They come in various colors, shapes, and sizes, and their attractiveness has fascinated humans for centuries. However, flowers have more to offer than their aesthetic value, and they play a crucial role in the ecosystem.\n",
    "Flowers are the reproductive organs of plants, and they play a vital role in pollination. They produce nectar and pollen that attract pollinators such as bees, butterflies, and hummingbirds, who transfer pollen from the stamen to the stigma of the flowers. This process helps in the fertilization of plants and is essential for the growth of crops and other vegetation. Flowers also ensure the genetic diversity of plant species.\n",
    "Apart from their ecological significance, flowers have numerous medicinal benefits. Many flowers have therapeutic properties that have been used in traditional medicine for centuries. For instance, chamomile is known for its calming effects and is used to treat anxiety and insomnia. Lavender is also used to promote relaxation, relieve pain, and improve sleep quality. Flowers like calendula have anti-inflammatory and antiseptic properties and can be used to treat skin infections and wounds.\n",
    "Moreover, flowers have an essential aesthetic value. They add color, charm, and personality to homes and gardens. The beauty of flowers is mesmerizing and captivating, and it has a calming effect on the mind and soul. Flowers arrangements, whether simple or elaborate, have a significant impact on the overall aesthetic appeal of a space.\n",
    "In conclusion, flowers are not just pretty things to look at. They have significant ecological, medicinal, cultural, and aesthetic values. They play a vital role in the ecosystem, ensuring the growth of crops and maintaining genetic diversity of plant species. Flowers also have therapeutic properties and are used in traditional medicine worldwide. They are an essential part of cultural traditions and are used to express emotions. The beauty and charm of flowers are mesmerizing and captivating, and it adds personality and charm to homes and gardens. Flowers are more than just plants; they are essential to human life and bring happiness and joy to those who admire them.\"\"\"\n",
    "\n",
    "docs ={\n",
    "    'doc_short':[short_doc,short_doc,short_doc],\n",
    "    'doc_short_medium': [short_medium,short_medium,short_medium],\n",
    "    'doc_medium':[medium_doc,medium_doc,medium_doc,],\n",
    "    'doc_medium_long': [medium_long_doc,medium_long_doc,medium_long_doc,],\n",
    "    'doc_long': [long_doc,long_doc,long_doc,]\n",
    "}\n",
    "\n",
    "for doc in docs:\n",
    "    print(len(docs[doc][0].split()))"
   ]
  },
  {
   "cell_type": "code",
   "execution_count": 111,
   "metadata": {},
   "outputs": [
    {
     "name": "stdout",
     "output_type": "stream",
     "text": [
      "26\n",
      "109\n",
      "202\n",
      "288\n",
      "497\n"
     ]
    },
    {
     "name": "stdout",
     "output_type": "stream",
     "text": [
      "..................."
     ]
    }
   ],
   "source": [
    "for doc in docs:\n",
    "    print(len(hf_pipeline.tokenizer(docs[doc][0],truncation=True)['input_ids']))"
   ]
  },
  {
   "cell_type": "code",
   "execution_count": 97,
   "metadata": {},
   "outputs": [
    {
     "data": {
      "text/plain": [
       "(25, 250, 500)"
      ]
     },
     "execution_count": 97,
     "metadata": {},
     "output_type": "execute_result"
    }
   ],
   "source": [
    "keybert_samples = {\n",
    "    'uncompiled':keybert,\n",
    "    'compiled_short':CompiledKeyBERT(compiled_document_pipeline=compiled_pipeline_short,compiled_word_pipeline=compiled_pipeline_short),\n",
    "    'compiled_medium':CompiledKeyBERT(compiled_document_pipeline=compiled_pipeline_medium,compiled_word_pipeline=compiled_pipeline_short),\n",
    "    'compiled_long':CompiledKeyBERT(compiled_document_pipeline=compiled_pipeline_long,compiled_word_pipeline=compiled_pipeline_short)\n",
    "}\n",
    "\n",
    "(compiled_pipeline_short.compiled_pipeline.model.compilation_specs['tracing__max_length'],\n",
    "compiled_pipeline_medium.compiled_pipeline.model.compilation_specs['tracing__max_length'],\n",
    "compiled_pipeline_long.compiled_pipeline.model.compilation_specs['tracing__max_length'])"
   ]
  },
  {
   "cell_type": "code",
   "execution_count": 98,
   "metadata": {},
   "outputs": [],
   "source": [
    "keybert_results = {\n",
    "    'uncompiled':{},\n",
    "    'compiled_short':{},\n",
    "    'compiled_medium':{},\n",
    "    'compiled_long':{},\n",
    "    'n_tokens': {}\n",
    "}"
   ]
  },
  {
   "cell_type": "code",
   "execution_count": 99,
   "metadata": {},
   "outputs": [
    {
     "name": "stdout",
     "output_type": "stream",
     "text": [
      "Document: doc_short\n",
      "Pipeline: uncompiled\n",
      "Pipeline uncompiled duration: 0.07361857414245605\n",
      "Pipeline uncompiled keywords: [[('glue', 0.7159), ('book', 0.3394), ('history', 0.3388), ('reading', 0.1668), ('just', 0.1213)], [('glue', 0.7159), ('book', 0.3394), ('history', 0.3388), ('reading', 0.1668), ('just', 0.1213)], [('glue', 0.7159), ('book', 0.3394), ('history', 0.3388), ('reading', 0.1668), ('just', 0.1213)]]\n",
      "---------------------------------------------------------------\n",
      ".Pipeline: compiled_short\n",
      "Pipeline compiled_short duration: 0.031480875015258786\n",
      "Pipeline compiled_short keywords: [[('glue', 0.7269), ('history', 0.3429), ('book', 0.3386), ('reading', 0.163), ('just', 0.1205)], [('glue', 0.7269), ('history', 0.3429), ('book', 0.3386), ('reading', 0.163), ('just', 0.1205)], [('glue', 0.7269), ('history', 0.3429), ('book', 0.3386), ('reading', 0.163), ('just', 0.1205)]]\n",
      "---------------------------------------------------------------\n",
      "Pipeline: compiled_medium\n",
      "Pipeline compiled_medium duration: 0.07898997783660888\n",
      "Pipeline compiled_medium keywords: [[('glue', 0.7165), ('book', 0.3394), ('history', 0.3379), ('reading', 0.1659), ('just', 0.1213)], [('glue', 0.7165), ('book', 0.3394), ('history', 0.3379), ('reading', 0.1659), ('just', 0.1213)], [('glue', 0.7165), ('book', 0.3394), ('history', 0.3379), ('reading', 0.1659), ('just', 0.1213)]]\n",
      "---------------------------------------------------------------\n",
      "Pipeline: compiled_long\n",
      "Pipeline compiled_long duration: 0.18281154632568358\n",
      "Pipeline compiled_long keywords: [[('glue', 0.7168), ('book', 0.3392), ('history', 0.3383), ('reading', 0.1656), ('just', 0.1212)], [('glue', 0.7168), ('book', 0.3392), ('history', 0.3383), ('reading', 0.1656), ('just', 0.1212)], [('glue', 0.7168), ('book', 0.3392), ('history', 0.3383), ('reading', 0.1656), ('just', 0.1212)]]\n",
      "---------------------------------------------------------------\n",
      ".=============================================================\n",
      "Document: doc_short_medium\n",
      "Pipeline: uncompiled\n",
      "Pipeline uncompiled duration: 0.3307806062698364\n",
      "Pipeline uncompiled keywords: [[('flowers', 0.7148), ('gardens', 0.519), ('plants', 0.4683), ('fragrance', 0.4337), ('beautiful', 0.4089)], [('flowers', 0.7148), ('gardens', 0.519), ('plants', 0.4683), ('fragrance', 0.4337), ('beautiful', 0.4089)], [('flowers', 0.7148), ('gardens', 0.519), ('plants', 0.4683), ('fragrance', 0.4337), ('beautiful', 0.4089)]]\n",
      "---------------------------------------------------------------\n",
      "Pipeline: compiled_short\n",
      ".Pipeline compiled_short duration: 0.1333631992340088\n",
      "Pipeline compiled_short keywords: [[('flowers', 0.6458), ('aesthetic', 0.5315), ('pleasing', 0.4418), ('gardens', 0.4177), ('beautiful', 0.4052)], [('flowers', 0.6458), ('aesthetic', 0.5315), ('pleasing', 0.4418), ('gardens', 0.4177), ('beautiful', 0.4052)], [('flowers', 0.6458), ('aesthetic', 0.5315), ('pleasing', 0.4418), ('gardens', 0.4177), ('beautiful', 0.4052)]]\n",
      "---------------------------------------------------------------\n",
      "Pipeline: compiled_medium\n",
      "Pipeline compiled_medium duration: 0.18307571411132811\n",
      "Pipeline compiled_medium keywords: [[('flowers', 0.7155), ('gardens', 0.5209), ('plants', 0.4699), ('fragrance', 0.432), ('beautiful', 0.4078)], [('flowers', 0.7155), ('gardens', 0.5209), ('plants', 0.4699), ('fragrance', 0.432), ('beautiful', 0.4078)], [('flowers', 0.7155), ('gardens', 0.5209), ('plants', 0.4699), ('fragrance', 0.432), ('beautiful', 0.4078)]]\n",
      "---------------------------------------------------------------\n",
      "Pipeline: compiled_long\n",
      ".Pipeline compiled_long duration: 0.34519734382629397\n",
      "Pipeline compiled_long keywords: [[('flowers', 0.7142), ('gardens', 0.5195), ('plants', 0.4689), ('fragrance', 0.4326), ('beautiful', 0.4079)], [('flowers', 0.7142), ('gardens', 0.5195), ('plants', 0.4689), ('fragrance', 0.4326), ('beautiful', 0.4079)], [('flowers', 0.7142), ('gardens', 0.5195), ('plants', 0.4689), ('fragrance', 0.4326), ('beautiful', 0.4079)]]\n",
      "---------------------------------------------------------------\n",
      "=============================================================\n",
      "Document: doc_medium\n",
      "Pipeline: uncompiled\n",
      "..Pipeline uncompiled duration: 0.7243011236190796\n",
      "Pipeline uncompiled keywords: [[('flowers', 0.6182), ('weddings', 0.5064), ('ceremonies', 0.5019), ('gardens', 0.4423), ('religious', 0.4268)], [('flowers', 0.6182), ('weddings', 0.5064), ('ceremonies', 0.5019), ('gardens', 0.4423), ('religious', 0.4268)], [('flowers', 0.6182), ('weddings', 0.5064), ('ceremonies', 0.5019), ('gardens', 0.4423), ('religious', 0.4268)]]\n",
      "---------------------------------------------------------------\n",
      "Pipeline: compiled_short\n",
      ".Pipeline compiled_short duration: 0.2861265897750854\n",
      "Pipeline compiled_short keywords: [[('flowers', 0.6755), ('lavender', 0.4883), ('gardens', 0.4787), ('beauty', 0.4579), ('lilies', 0.3997)], [('flowers', 0.6755), ('lavender', 0.4883), ('gardens', 0.4787), ('beauty', 0.4579), ('lilies', 0.3997)], [('flowers', 0.6755), ('lavender', 0.4883), ('gardens', 0.4787), ('beauty', 0.4579), ('lilies', 0.3997)]]\n",
      "---------------------------------------------------------------\n",
      "Pipeline: compiled_medium\n",
      ".Pipeline compiled_medium duration: 0.3299632453918457\n",
      "Pipeline compiled_medium keywords: [[('flowers', 0.6189), ('weddings', 0.506), ('ceremonies', 0.501), ('gardens', 0.444), ('religious', 0.4265)], [('flowers', 0.6189), ('weddings', 0.506), ('ceremonies', 0.501), ('gardens', 0.444), ('religious', 0.4265)], [('flowers', 0.6189), ('weddings', 0.506), ('ceremonies', 0.501), ('gardens', 0.444), ('religious', 0.4265)]]\n",
      "---------------------------------------------------------------\n",
      "Pipeline: compiled_long\n",
      ".Pipeline compiled_long duration: 0.4405793571472168\n",
      "Pipeline compiled_long keywords: [[('flowers', 0.6194), ('weddings', 0.5058), ('ceremonies', 0.5008), ('gardens', 0.4446), ('religious', 0.4264)], [('flowers', 0.6194), ('weddings', 0.5058), ('ceremonies', 0.5008), ('gardens', 0.4446), ('religious', 0.4264)], [('flowers', 0.6194), ('weddings', 0.5058), ('ceremonies', 0.5008), ('gardens', 0.4446), ('religious', 0.4264)]]\n",
      "---------------------------------------------------------------\n",
      "=============================================================\n",
      "Document: doc_medium_long\n",
      "Pipeline: uncompiled\n",
      "...Pipeline uncompiled duration: 0.9230514478683471\n",
      "Pipeline uncompiled keywords: [[('flowers', 0.5284), ('roses', 0.4512), ('attractiveness', 0.4279), ('charm', 0.4159), ('beauty', 0.4127)], [('flowers', 0.5284), ('roses', 0.4512), ('attractiveness', 0.4279), ('charm', 0.4159), ('beauty', 0.4127)], [('flowers', 0.5284), ('roses', 0.4512), ('attractiveness', 0.4279), ('charm', 0.4159), ('beauty', 0.4127)]]\n",
      "---------------------------------------------------------------\n",
      "Pipeline: compiled_short\n",
      ".Pipeline compiled_short duration: 0.3574415349960327\n",
      "Pipeline compiled_short keywords: [[('flowers', 0.7364), ('roses', 0.6439), ('beauty', 0.5245), ('gardens', 0.5073), ('plants', 0.5039)], [('flowers', 0.7364), ('roses', 0.6439), ('beauty', 0.5245), ('gardens', 0.5073), ('plants', 0.5039)], [('flowers', 0.7364), ('roses', 0.6439), ('beauty', 0.5245), ('gardens', 0.5073), ('plants', 0.5039)]]\n",
      "---------------------------------------------------------------\n",
      "Pipeline: compiled_medium\n",
      ".Pipeline compiled_medium duration: 0.4204205369949341\n",
      "Pipeline compiled_medium keywords: [[('flowers', 0.5607), ('roses', 0.4827), ('attractiveness', 0.4407), ('plants', 0.4402), ('pollen', 0.4369)], [('flowers', 0.5607), ('roses', 0.4827), ('attractiveness', 0.4407), ('plants', 0.4402), ('pollen', 0.4369)], [('flowers', 0.5607), ('roses', 0.4827), ('attractiveness', 0.4407), ('plants', 0.4402), ('pollen', 0.4369)]]\n",
      "---------------------------------------------------------------\n",
      "Pipeline: compiled_long\n",
      ".Pipeline compiled_long duration: 0.5080895042419433\n",
      "Pipeline compiled_long keywords: [[('flowers', 0.5285), ('roses', 0.4511), ('attractiveness', 0.428), ('charm', 0.4163), ('plants', 0.4133)], [('flowers', 0.5285), ('roses', 0.4511), ('attractiveness', 0.428), ('charm', 0.4163), ('plants', 0.4133)], [('flowers', 0.5285), ('roses', 0.4511), ('attractiveness', 0.428), ('charm', 0.4163), ('plants', 0.4133)]]\n",
      "---------------------------------------------------------------\n",
      "=============================================================\n",
      "Document: doc_long\n",
      "Pipeline: uncompiled\n",
      "....Pipeline uncompiled duration: 1.323922734260559\n",
      "Pipeline uncompiled keywords: [[('flowers', 0.3747), ('plants', 0.3195), ('lavender', 0.3177), ('gardens', 0.313), ('pollinators', 0.3073)], [('flowers', 0.3747), ('plants', 0.3195), ('lavender', 0.3177), ('gardens', 0.313), ('pollinators', 0.3073)], [('flowers', 0.3747), ('plants', 0.3195), ('lavender', 0.3177), ('gardens', 0.313), ('pollinators', 0.3073)]]\n",
      "---------------------------------------------------------------\n",
      "Pipeline: compiled_short\n",
      ".Pipeline compiled_short duration: 0.5037365770339965\n",
      "Pipeline compiled_short keywords: [[('flowers', 0.7364), ('lavender', 0.5334), ('beauty', 0.5245), ('gardens', 0.5073), ('plants', 0.5039)], [('flowers', 0.7364), ('lavender', 0.5334), ('beauty', 0.5245), ('gardens', 0.5073), ('plants', 0.5039)], [('flowers', 0.7364), ('lavender', 0.5334), ('beauty', 0.5245), ('gardens', 0.5073), ('plants', 0.5039)]]\n",
      "---------------------------------------------------------------\n",
      "Pipeline: compiled_medium\n",
      ".Pipeline compiled_medium duration: 0.5485562896728515\n",
      "Pipeline compiled_medium keywords: [[('flowers', 0.6033), ('lavender', 0.5648), ('plants', 0.5014), ('gardens', 0.4927), ('pollen', 0.4748)], [('flowers', 0.6033), ('lavender', 0.5648), ('plants', 0.5014), ('gardens', 0.4927), ('pollen', 0.4748)], [('flowers', 0.6033), ('lavender', 0.5648), ('plants', 0.5014), ('gardens', 0.4927), ('pollen', 0.4748)]]\n",
      "---------------------------------------------------------------\n",
      "Pipeline: compiled_long\n",
      "..Pipeline compiled_long duration: 0.6486272621154785\n",
      "Pipeline compiled_long keywords: [[('flowers', 0.3751), ('plants', 0.3213), ('lavender', 0.3186), ('gardens', 0.3152), ('pollinators', 0.309)], [('flowers', 0.3751), ('plants', 0.3213), ('lavender', 0.3186), ('gardens', 0.3152), ('pollinators', 0.309)], [('flowers', 0.3751), ('plants', 0.3213), ('lavender', 0.3186), ('gardens', 0.3152), ('pollinators', 0.309)]]\n",
      "---------------------------------------------------------------\n",
      "=============================================================\n"
     ]
    }
   ],
   "source": [
    "import time\n",
    "\n",
    "n_runs = 50\n",
    "\n",
    "for doc_scenario in docs.keys():\n",
    "    \n",
    "    print(f'Document: {doc_scenario}')\n",
    "    keybert_results['n_tokens'][doc_scenario] = len(hf_pipeline.tokenizer(docs[doc_scenario][0],truncation=True)['input_ids'])\n",
    "    \n",
    "    for keybert_scenario in keybert_samples.keys():\n",
    "        \n",
    "        print(f'Pipeline: {keybert_scenario}')\n",
    "        \n",
    "        start = time.time()\n",
    "        \n",
    "        for i in range(n_runs):\n",
    "            keywords = keybert_samples[keybert_scenario].extract_keywords(docs[doc_scenario])\n",
    "            \n",
    "        keybert_results[keybert_scenario][doc_scenario] = (time.time() - start) / n_runs\n",
    "        \n",
    "        print(f'Pipeline {keybert_scenario} duration: {keybert_results[keybert_scenario][doc_scenario]}')\n",
    "        print(f'Pipeline {keybert_scenario} keywords: {keywords}')\n",
    "        print('---------------------------------------------------------------')\n",
    "        time.sleep(2)\n",
    "        \n",
    "    print(f'=============================================================')"
   ]
  },
  {
   "cell_type": "code",
   "execution_count": 101,
   "metadata": {},
   "outputs": [
    {
     "name": "stdout",
     "output_type": "stream",
     "text": [
      "."
     ]
    },
    {
     "data": {
      "text/html": [
       "<div>\n",
       "<style scoped>\n",
       "    .dataframe tbody tr th:only-of-type {\n",
       "        vertical-align: middle;\n",
       "    }\n",
       "\n",
       "    .dataframe tbody tr th {\n",
       "        vertical-align: top;\n",
       "    }\n",
       "\n",
       "    .dataframe thead th {\n",
       "        text-align: right;\n",
       "    }\n",
       "</style>\n",
       "<table border=\"1\" class=\"dataframe\">\n",
       "  <thead>\n",
       "    <tr style=\"text-align: right;\">\n",
       "      <th></th>\n",
       "      <th>uncompiled</th>\n",
       "      <th>compiled_short</th>\n",
       "      <th>compiled_medium</th>\n",
       "      <th>compiled_long</th>\n",
       "      <th>n_tokens</th>\n",
       "    </tr>\n",
       "  </thead>\n",
       "  <tbody>\n",
       "    <tr>\n",
       "      <th>doc_short</th>\n",
       "      <td>0.073619</td>\n",
       "      <td>0.031481</td>\n",
       "      <td>0.078990</td>\n",
       "      <td>0.182812</td>\n",
       "      <td>26</td>\n",
       "    </tr>\n",
       "    <tr>\n",
       "      <th>doc_short_medium</th>\n",
       "      <td>0.330781</td>\n",
       "      <td>0.133363</td>\n",
       "      <td>0.183076</td>\n",
       "      <td>0.345197</td>\n",
       "      <td>109</td>\n",
       "    </tr>\n",
       "    <tr>\n",
       "      <th>doc_medium</th>\n",
       "      <td>0.724301</td>\n",
       "      <td>0.286127</td>\n",
       "      <td>0.329963</td>\n",
       "      <td>0.440579</td>\n",
       "      <td>202</td>\n",
       "    </tr>\n",
       "    <tr>\n",
       "      <th>doc_medium_long</th>\n",
       "      <td>0.923051</td>\n",
       "      <td>0.357442</td>\n",
       "      <td>0.420421</td>\n",
       "      <td>0.508090</td>\n",
       "      <td>288</td>\n",
       "    </tr>\n",
       "    <tr>\n",
       "      <th>doc_long</th>\n",
       "      <td>1.323923</td>\n",
       "      <td>0.503737</td>\n",
       "      <td>0.548556</td>\n",
       "      <td>0.648627</td>\n",
       "      <td>497</td>\n",
       "    </tr>\n",
       "  </tbody>\n",
       "</table>\n",
       "</div>"
      ],
      "text/plain": [
       "                  uncompiled  compiled_short  compiled_medium  compiled_long  \\\n",
       "doc_short           0.073619        0.031481         0.078990       0.182812   \n",
       "doc_short_medium    0.330781        0.133363         0.183076       0.345197   \n",
       "doc_medium          0.724301        0.286127         0.329963       0.440579   \n",
       "doc_medium_long     0.923051        0.357442         0.420421       0.508090   \n",
       "doc_long            1.323923        0.503737         0.548556       0.648627   \n",
       "\n",
       "                  n_tokens  \n",
       "doc_short               26  \n",
       "doc_short_medium       109  \n",
       "doc_medium             202  \n",
       "doc_medium_long        288  \n",
       "doc_long               497  "
      ]
     },
     "execution_count": 101,
     "metadata": {},
     "output_type": "execute_result"
    },
    {
     "name": "stdout",
     "output_type": "stream",
     "text": [
      ".................."
     ]
    }
   ],
   "source": [
    "import pandas as pd\n",
    "\n",
    "results_df = pd.DataFrame(keybert_results)\n",
    "results_df"
   ]
  },
  {
   "attachments": {},
   "cell_type": "markdown",
   "metadata": {},
   "source": [
    "- n_tokens ~ 100 -> compile at 512 gives ~ 1.5 speedup\n",
    "- n_tokens ~ 200 - 300 -> compile at 512 gives ~ 2x speedup\n",
    "- n_tokens ~ 500 -> compile at 512 is ~ 2x speedup"
   ]
  }
 ],
 "metadata": {
  "kernelspec": {
   "display_name": ".venv",
   "language": "python",
   "name": "python3"
  },
  "language_info": {
   "codemirror_mode": {
    "name": "ipython",
    "version": 3
   },
   "file_extension": ".py",
   "mimetype": "text/x-python",
   "name": "python",
   "nbconvert_exporter": "python",
   "pygments_lexer": "ipython3",
   "version": "3.8.16"
  },
  "orig_nbformat": 4
 },
 "nbformat": 4,
 "nbformat_minor": 2
}
