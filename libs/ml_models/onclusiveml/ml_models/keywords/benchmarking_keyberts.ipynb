{
 "cells": [
  {
   "cell_type": "code",
   "execution_count": 1,
   "metadata": {},
   "outputs": [
    {
     "name": "stderr",
     "output_type": "stream",
     "text": [
      "/home/ec2-user/repositories/ml-mesh/.venv/lib/python3.8/site-packages/tqdm/auto.py:21: TqdmWarning: IProgress not found. Please update jupyter and ipywidgets. See https://ipywidgets.readthedocs.io/en/stable/user_install.html\n",
      "  from .autonotebook import tqdm as notebook_tqdm\n"
     ]
    }
   ],
   "source": [
    "from transformers.pipelines import pipeline\n",
    "from keybert import KeyBERT\n",
    "from onclusiveml.ml_compile import CompiledPipeline\n",
    "from onclusiveml.ml_models.keywords import CompiledKeyBERT\n",
    "import torch_neuron"
   ]
  },
  {
   "cell_type": "code",
   "execution_count": 2,
   "metadata": {},
   "outputs": [],
   "source": [
    "hf_pipeline = pipeline(task='feature-extraction',model=\"sentence-transformers/paraphrase-multilingual-MiniLM-L12-v2\")"
   ]
  },
  {
   "cell_type": "code",
   "execution_count": 3,
   "metadata": {},
   "outputs": [],
   "source": [
    "keybert = KeyBERT(model=hf_pipeline)"
   ]
  },
  {
   "cell_type": "code",
   "execution_count": 4,
   "metadata": {},
   "outputs": [
    {
     "name": "stdout",
     "output_type": "stream",
     "text": [
      "Reloaded\n"
     ]
    }
   ],
   "source": [
    "try:\n",
    "    compiled_pipeline_short = CompiledPipeline.from_pretrained('compiled_pipeline_short')\n",
    "    print('Reloaded')\n",
    "except:\n",
    "    print('Recompiling')\n",
    "    compiled_pipeline_short = CompiledPipeline.from_pipeline(pipeline=hf_pipeline,max_length=25, batch_size=1,neuron=True,validate_compilation=False)\n",
    "    compiled_pipeline_short.save_pretrained('compiled_pipeline_short')\n",
    "    print('Recompiled and exported')"
   ]
  },
  {
   "cell_type": "code",
   "execution_count": 5,
   "metadata": {},
   "outputs": [
    {
     "name": "stdout",
     "output_type": "stream",
     "text": [
      "Reloaded\n"
     ]
    }
   ],
   "source": [
    "try:\n",
    "    compiled_pipeline_medium = CompiledPipeline.from_pretrained('compiled_pipeline_medium')\n",
    "    print('Reloaded')\n",
    "except:\n",
    "    print('Recompiling')\n",
    "    compiled_pipeline_medium = CompiledPipeline.from_pipeline(pipeline=hf_pipeline,max_length=250, batch_size=1,neuron=True,validate_compilation=False)\n",
    "    compiled_pipeline_medium.save_pretrained('compiled_pipeline_medium')\n",
    "    print('Recompiled and exported')"
   ]
  },
  {
   "cell_type": "code",
   "execution_count": 6,
   "metadata": {},
   "outputs": [
    {
     "name": "stdout",
     "output_type": "stream",
     "text": [
      "Reloaded\n"
     ]
    }
   ],
   "source": [
    "try:\n",
    "    compiled_pipeline_long = CompiledPipeline.from_pretrained('compiled_pipeline_long')\n",
    "    print('Reloaded')\n",
    "except:\n",
    "    print('Recompiling')\n",
    "    compiled_pipeline_long = CompiledPipeline.from_pipeline(pipeline=hf_pipeline,max_length=500, batch_size=1,neuron=True,validate_compilation=False)\n",
    "    compiled_pipeline_long.save_pretrained('compiled_pipeline_long')\n",
    "    print('Recompiled and exported')"
   ]
  },
  {
   "cell_type": "code",
   "execution_count": 7,
   "metadata": {},
   "outputs": [
    {
     "name": "stdout",
     "output_type": "stream",
     "text": [
      "17\n",
      "75\n",
      "135\n",
      "194\n",
      "347\n"
     ]
    }
   ],
   "source": [
    "short_doc = \"I'm reading a book on the history of glue. I just can't seem to put it down.\"\n",
    "short_medium = \"Flowers are not only visually pleasing, but they are also used to enhance the aesthetic appeal of homes and gardens. Flowers are a symbol of love and affection and are often given as gifts to loved ones. The fragrance of flowers is known to lift moods and calm anxiety. In addition, flowers are essential to pollination, a process that helps in the reproduction of plants. Overall, flowers are beautiful, therapeutic, and essential to the ecosystem.\"\n",
    "medium_doc = \"\"\"Flowers come in different shapes, sizes, and colors, and their beauty has captivated humans for centuries. Apart from their aesthetic appeal, flowers are also essential to the ecosystem, playing a vital role in pollination necessary for the growth of crops and maintaining genetic diversity of plant species.\n",
    "Flowers have therapeutic properties and are used in traditional medicine for centuries. Chamomile, lavender, and marigold have soothing effects on the mind and body. The fragrance of flowers is calming, and they are used in aromatherapy worldwide.\n",
    "Flowers have cultural and emotional significance, often used in religious ceremonies, weddings, and funerals. Different flowers have symbolic meanings, such as lilies representing purity and innocence. Flowers are also a significant part of home decor, adding charm and personality to homes and gardens.\n",
    "In conclusion, flowers have multiple dimensions of significance.\"\"\"\n",
    "medium_long_doc = \"\"\"Flowers are nature's way of displaying beauty and elegance. They come in various colors, shapes, and sizes, and their attractiveness has fascinated humans for centuries. However, flowers have more to offer than their aesthetic value, and they play a crucial role in the ecosystem.\n",
    "Flowers are the reproductive organs of plants, and they play a vital role in pollination. They produce nectar and pollen that attract pollinators such as bees, butterflies, and hummingbirds, who transfer pollen from the stamen to the stigma of the flowers. This process helps in the fertilization of plants and is essential for the growth of crops and other vegetation. Flowers also ensure the genetic diversity of plant species.\n",
    "For example, roses are associated with love and passion, while lilies represent purity and innocence. Flowers are also used to express emotions like joy, gratitude, and sympathy.\n",
    "Moreover, flowers have an essential aesthetic value. They add color, charm, and personality to homes and gardens. The beauty of flowers is mesmerizing and captivating, and it has a calming effect on the mind and soul. Flowers arrangements, whether simple or elaborate, have a significant impact on the overall aesthetic appeal of a space.\"\"\"\n",
    "long_doc = \"\"\"Flowers are nature's way of displaying beauty and elegance. They come in various colors, shapes, and sizes, and their attractiveness has fascinated humans for centuries. However, flowers have more to offer than their aesthetic value, and they play a crucial role in the ecosystem.\n",
    "Flowers are the reproductive organs of plants, and they play a vital role in pollination. They produce nectar and pollen that attract pollinators such as bees, butterflies, and hummingbirds, who transfer pollen from the stamen to the stigma of the flowers. This process helps in the fertilization of plants and is essential for the growth of crops and other vegetation. Flowers also ensure the genetic diversity of plant species.\n",
    "Apart from their ecological significance, flowers have numerous medicinal benefits. Many flowers have therapeutic properties that have been used in traditional medicine for centuries. For instance, chamomile is known for its calming effects and is used to treat anxiety and insomnia. Lavender is also used to promote relaxation, relieve pain, and improve sleep quality. Flowers like calendula have anti-inflammatory and antiseptic properties and can be used to treat skin infections and wounds.\n",
    "Moreover, flowers have an essential aesthetic value. They add color, charm, and personality to homes and gardens. The beauty of flowers is mesmerizing and captivating, and it has a calming effect on the mind and soul. Flowers arrangements, whether simple or elaborate, have a significant impact on the overall aesthetic appeal of a space.\n",
    "In conclusion, flowers are not just pretty things to look at. They have significant ecological, medicinal, cultural, and aesthetic values. They play a vital role in the ecosystem, ensuring the growth of crops and maintaining genetic diversity of plant species. Flowers also have therapeutic properties and are used in traditional medicine worldwide. They are an essential part of cultural traditions and are used to express emotions. The beauty and charm of flowers are mesmerizing and captivating, and it adds personality and charm to homes and gardens. Flowers are more than just plants; they are essential to human life and bring happiness and joy to those who admire them.\"\"\"\n",
    "\n",
    "docs ={\n",
    "    'doc_short':[short_doc,short_doc,short_doc],\n",
    "    'doc_short_medium': [short_medium,short_medium,short_medium],\n",
    "    'doc_medium':[medium_doc,medium_doc,medium_doc,],\n",
    "    'doc_medium_long': [medium_long_doc,medium_long_doc,medium_long_doc,],\n",
    "    'doc_long': [long_doc,long_doc,long_doc,]\n",
    "}\n",
    "\n",
    "for doc in docs:\n",
    "    print(len(docs[doc][0].split()))"
   ]
  },
  {
   "cell_type": "code",
   "execution_count": 8,
   "metadata": {},
   "outputs": [
    {
     "name": "stdout",
     "output_type": "stream",
     "text": [
      "26\n",
      "109\n",
      "202\n",
      "288\n",
      "497\n"
     ]
    }
   ],
   "source": [
    "for doc in docs:\n",
    "    print(len(hf_pipeline.tokenizer(docs[doc][0],truncation=True)['input_ids']))"
   ]
  },
  {
   "cell_type": "code",
   "execution_count": 13,
   "metadata": {},
   "outputs": [
    {
     "data": {
      "text/plain": [
       "(25, 250, 500)"
      ]
     },
     "execution_count": 13,
     "metadata": {},
     "output_type": "execute_result"
    }
   ],
   "source": [
    "keybert_samples = {\n",
    "    'uncompiled':keybert,\n",
    "    'hybrid':CompiledKeyBERT(document_pipeline=hf_pipeline,compiled_word_pipeline=compiled_pipeline_short),\n",
    "    'compiled_short':CompiledKeyBERT(document_pipeline=compiled_pipeline_short,compiled_word_pipeline=compiled_pipeline_short),\n",
    "    'compiled_medium':CompiledKeyBERT(document_pipeline=compiled_pipeline_medium,compiled_word_pipeline=compiled_pipeline_short),\n",
    "    'compiled_long':CompiledKeyBERT(document_pipeline=compiled_pipeline_long,compiled_word_pipeline=compiled_pipeline_short),\n",
    "}\n",
    "\n",
    "(compiled_pipeline_short.compiled_pipeline.model.compilation_specs['tracing__max_length'],\n",
    "compiled_pipeline_medium.compiled_pipeline.model.compilation_specs['tracing__max_length'],\n",
    "compiled_pipeline_long.compiled_pipeline.model.compilation_specs['tracing__max_length'])"
   ]
  },
  {
   "cell_type": "code",
   "execution_count": 14,
   "metadata": {},
   "outputs": [],
   "source": [
    "keybert_results = {\n",
    "    'uncompiled':{},\n",
    "    'hybrid':{},\n",
    "    'compiled_short':{},\n",
    "    'compiled_medium':{},\n",
    "    'compiled_long':{},\n",
    "    'n_tokens': {}\n",
    "}"
   ]
  },
  {
   "cell_type": "code",
   "execution_count": 20,
   "metadata": {},
   "outputs": [
    {
     "name": "stdout",
     "output_type": "stream",
     "text": [
      "Document: doc_short\n",
      "Pipeline: uncompiled\n",
      "Pipeline uncompiled duration: 0.07366365432739258\n",
      "Pipeline uncompiled keywords: [[('glue', 0.7159), ('book', 0.3394), ('history', 0.3388), ('reading', 0.1668), ('just', 0.1213)], [('glue', 0.7159), ('book', 0.3394), ('history', 0.3388), ('reading', 0.1668), ('just', 0.1213)], [('glue', 0.7159), ('book', 0.3394), ('history', 0.3388), ('reading', 0.1668), ('just', 0.1213)]]\n",
      "---------------------------------------------------------------\n",
      "Pipeline: hybrid\n",
      "Pipeline hybrid duration: 0.054367995262145995\n",
      "Pipeline hybrid keywords: [[('glue', 0.7157), ('book', 0.3398), ('history', 0.3389), ('reading', 0.1663), ('just', 0.1214)], [('glue', 0.7157), ('book', 0.3398), ('history', 0.3389), ('reading', 0.1663), ('just', 0.1214)], [('glue', 0.7157), ('book', 0.3398), ('history', 0.3389), ('reading', 0.1663), ('just', 0.1214)]]\n",
      "---------------------------------------------------------------\n",
      "Pipeline: compiled_short\n",
      "Pipeline compiled_short duration: 0.030943756103515626\n",
      "Pipeline compiled_short keywords: [[('glue', 0.7269), ('history', 0.3429), ('book', 0.3386), ('reading', 0.163), ('just', 0.1205)], [('glue', 0.7269), ('history', 0.3429), ('book', 0.3386), ('reading', 0.163), ('just', 0.1205)], [('glue', 0.7269), ('history', 0.3429), ('book', 0.3386), ('reading', 0.163), ('just', 0.1205)]]\n",
      "---------------------------------------------------------------\n",
      "Pipeline: compiled_medium\n",
      "Pipeline compiled_medium duration: 0.07797793388366699\n",
      "Pipeline compiled_medium keywords: [[('glue', 0.7165), ('book', 0.3394), ('history', 0.3379), ('reading', 0.1659), ('just', 0.1213)], [('glue', 0.7165), ('book', 0.3394), ('history', 0.3379), ('reading', 0.1659), ('just', 0.1213)], [('glue', 0.7165), ('book', 0.3394), ('history', 0.3379), ('reading', 0.1659), ('just', 0.1213)]]\n",
      "---------------------------------------------------------------\n",
      "Pipeline: compiled_long\n",
      "Pipeline compiled_long duration: 0.18385856628417968\n",
      "Pipeline compiled_long keywords: [[('glue', 0.7168), ('book', 0.3392), ('history', 0.3383), ('reading', 0.1656), ('just', 0.1212)], [('glue', 0.7168), ('book', 0.3392), ('history', 0.3383), ('reading', 0.1656), ('just', 0.1212)], [('glue', 0.7168), ('book', 0.3392), ('history', 0.3383), ('reading', 0.1656), ('just', 0.1212)]]\n",
      "---------------------------------------------------------------\n",
      "=============================================================\n",
      "Document: doc_short_medium\n",
      "Pipeline: uncompiled\n",
      "Pipeline uncompiled duration: 0.34091920852661134\n",
      "Pipeline uncompiled keywords: [[('flowers', 0.7148), ('gardens', 0.519), ('plants', 0.4683), ('fragrance', 0.4337), ('beautiful', 0.4089)], [('flowers', 0.7148), ('gardens', 0.519), ('plants', 0.4683), ('fragrance', 0.4337), ('beautiful', 0.4089)], [('flowers', 0.7148), ('gardens', 0.519), ('plants', 0.4683), ('fragrance', 0.4337), ('beautiful', 0.4089)]]\n",
      "---------------------------------------------------------------\n",
      "Pipeline: hybrid\n",
      "Pipeline hybrid duration: 0.19979889392852784\n",
      "Pipeline hybrid keywords: [[('flowers', 0.7147), ('gardens', 0.5195), ('plants', 0.469), ('fragrance', 0.4333), ('beautiful', 0.4084)], [('flowers', 0.7147), ('gardens', 0.5195), ('plants', 0.469), ('fragrance', 0.4333), ('beautiful', 0.4084)], [('flowers', 0.7147), ('gardens', 0.5195), ('plants', 0.469), ('fragrance', 0.4333), ('beautiful', 0.4084)]]\n",
      "---------------------------------------------------------------\n",
      "Pipeline: compiled_short\n",
      "Pipeline compiled_short duration: 0.13257901668548583\n",
      "Pipeline compiled_short keywords: [[('flowers', 0.6458), ('aesthetic', 0.5315), ('pleasing', 0.4418), ('gardens', 0.4177), ('beautiful', 0.4052)], [('flowers', 0.6458), ('aesthetic', 0.5315), ('pleasing', 0.4418), ('gardens', 0.4177), ('beautiful', 0.4052)], [('flowers', 0.6458), ('aesthetic', 0.5315), ('pleasing', 0.4418), ('gardens', 0.4177), ('beautiful', 0.4052)]]\n",
      "---------------------------------------------------------------\n",
      "Pipeline: compiled_medium\n",
      "Pipeline compiled_medium duration: 0.18150551319122316\n",
      "Pipeline compiled_medium keywords: [[('flowers', 0.7155), ('gardens', 0.5209), ('plants', 0.4699), ('fragrance', 0.432), ('beautiful', 0.4078)], [('flowers', 0.7155), ('gardens', 0.5209), ('plants', 0.4699), ('fragrance', 0.432), ('beautiful', 0.4078)], [('flowers', 0.7155), ('gardens', 0.5209), ('plants', 0.4699), ('fragrance', 0.432), ('beautiful', 0.4078)]]\n",
      "---------------------------------------------------------------\n",
      "Pipeline: compiled_long\n",
      "Pipeline compiled_long duration: 0.29003594398498533\n",
      "Pipeline compiled_long keywords: [[('flowers', 0.7142), ('gardens', 0.5195), ('plants', 0.4689), ('fragrance', 0.4326), ('beautiful', 0.4079)], [('flowers', 0.7142), ('gardens', 0.5195), ('plants', 0.4689), ('fragrance', 0.4326), ('beautiful', 0.4079)], [('flowers', 0.7142), ('gardens', 0.5195), ('plants', 0.4689), ('fragrance', 0.4326), ('beautiful', 0.4079)]]\n",
      "---------------------------------------------------------------\n",
      "=============================================================\n",
      "Document: doc_medium\n",
      "Pipeline: uncompiled\n",
      "Pipeline uncompiled duration: 0.7102692937850952\n",
      "Pipeline uncompiled keywords: [[('flowers', 0.6182), ('weddings', 0.5064), ('ceremonies', 0.5019), ('gardens', 0.4423), ('religious', 0.4268)], [('flowers', 0.6182), ('weddings', 0.5064), ('ceremonies', 0.5019), ('gardens', 0.4423), ('religious', 0.4268)], [('flowers', 0.6182), ('weddings', 0.5064), ('ceremonies', 0.5019), ('gardens', 0.4423), ('religious', 0.4268)]]\n",
      "---------------------------------------------------------------\n",
      "Pipeline: hybrid\n",
      "Pipeline hybrid duration: 0.4261130952835083\n",
      "Pipeline hybrid keywords: [[('flowers', 0.6176), ('weddings', 0.5063), ('ceremonies', 0.5017), ('gardens', 0.4427), ('religious', 0.427)], [('flowers', 0.6176), ('weddings', 0.5063), ('ceremonies', 0.5017), ('gardens', 0.4427), ('religious', 0.427)], [('flowers', 0.6176), ('weddings', 0.5063), ('ceremonies', 0.5017), ('gardens', 0.4427), ('religious', 0.427)]]\n",
      "---------------------------------------------------------------\n",
      "Pipeline: compiled_short\n",
      "Pipeline compiled_short duration: 0.2759110546112061\n",
      "Pipeline compiled_short keywords: [[('flowers', 0.6755), ('lavender', 0.4883), ('gardens', 0.4787), ('beauty', 0.4579), ('lilies', 0.3997)], [('flowers', 0.6755), ('lavender', 0.4883), ('gardens', 0.4787), ('beauty', 0.4579), ('lilies', 0.3997)], [('flowers', 0.6755), ('lavender', 0.4883), ('gardens', 0.4787), ('beauty', 0.4579), ('lilies', 0.3997)]]\n",
      "---------------------------------------------------------------\n",
      "Pipeline: compiled_medium\n",
      "Pipeline compiled_medium duration: 0.3250589990615845\n",
      "Pipeline compiled_medium keywords: [[('flowers', 0.6189), ('weddings', 0.506), ('ceremonies', 0.501), ('gardens', 0.444), ('religious', 0.4265)], [('flowers', 0.6189), ('weddings', 0.506), ('ceremonies', 0.501), ('gardens', 0.444), ('religious', 0.4265)], [('flowers', 0.6189), ('weddings', 0.506), ('ceremonies', 0.501), ('gardens', 0.444), ('religious', 0.4265)]]\n",
      "---------------------------------------------------------------\n",
      "Pipeline: compiled_long\n",
      "Pipeline compiled_long duration: 0.42253387451171875\n",
      "Pipeline compiled_long keywords: [[('flowers', 0.6194), ('weddings', 0.5058), ('ceremonies', 0.5008), ('gardens', 0.4446), ('religious', 0.4264)], [('flowers', 0.6194), ('weddings', 0.5058), ('ceremonies', 0.5008), ('gardens', 0.4446), ('religious', 0.4264)], [('flowers', 0.6194), ('weddings', 0.5058), ('ceremonies', 0.5008), ('gardens', 0.4446), ('religious', 0.4264)]]\n",
      "---------------------------------------------------------------\n",
      "=============================================================\n",
      "Document: doc_medium_long\n",
      "Pipeline: uncompiled\n",
      "Pipeline uncompiled duration: 0.8924046468734741\n",
      "Pipeline uncompiled keywords: [[('flowers', 0.5284), ('roses', 0.4512), ('attractiveness', 0.4279), ('charm', 0.4159), ('beauty', 0.4127)], [('flowers', 0.5284), ('roses', 0.4512), ('attractiveness', 0.4279), ('charm', 0.4159), ('beauty', 0.4127)], [('flowers', 0.5284), ('roses', 0.4512), ('attractiveness', 0.4279), ('charm', 0.4159), ('beauty', 0.4127)]]\n",
      "---------------------------------------------------------------\n",
      "Pipeline: hybrid\n",
      "Pipeline hybrid duration: 0.5259074735641479\n",
      "Pipeline hybrid keywords: [[('flowers', 0.5282), ('roses', 0.4516), ('attractiveness', 0.4282), ('charm', 0.4159), ('plants', 0.4127)], [('flowers', 0.5282), ('roses', 0.4516), ('attractiveness', 0.4282), ('charm', 0.4159), ('plants', 0.4127)], [('flowers', 0.5282), ('roses', 0.4516), ('attractiveness', 0.4282), ('charm', 0.4159), ('plants', 0.4127)]]\n",
      "---------------------------------------------------------------\n",
      "Pipeline: compiled_short\n",
      "Pipeline compiled_short duration: 0.3466138124465942\n",
      "Pipeline compiled_short keywords: [[('flowers', 0.7364), ('roses', 0.6439), ('beauty', 0.5245), ('gardens', 0.5073), ('plants', 0.5039)], [('flowers', 0.7364), ('roses', 0.6439), ('beauty', 0.5245), ('gardens', 0.5073), ('plants', 0.5039)], [('flowers', 0.7364), ('roses', 0.6439), ('beauty', 0.5245), ('gardens', 0.5073), ('plants', 0.5039)]]\n",
      "---------------------------------------------------------------\n",
      "Pipeline: compiled_medium\n",
      "Pipeline compiled_medium duration: 0.39281646251678465\n",
      "Pipeline compiled_medium keywords: [[('flowers', 0.5607), ('roses', 0.4827), ('attractiveness', 0.4407), ('plants', 0.4402), ('pollen', 0.4369)], [('flowers', 0.5607), ('roses', 0.4827), ('attractiveness', 0.4407), ('plants', 0.4402), ('pollen', 0.4369)], [('flowers', 0.5607), ('roses', 0.4827), ('attractiveness', 0.4407), ('plants', 0.4402), ('pollen', 0.4369)]]\n",
      "---------------------------------------------------------------\n",
      "Pipeline: compiled_long\n",
      "Pipeline compiled_long duration: 0.4905992603302002\n",
      "Pipeline compiled_long keywords: [[('flowers', 0.5285), ('roses', 0.4511), ('attractiveness', 0.428), ('charm', 0.4163), ('plants', 0.4133)], [('flowers', 0.5285), ('roses', 0.4511), ('attractiveness', 0.428), ('charm', 0.4163), ('plants', 0.4133)], [('flowers', 0.5285), ('roses', 0.4511), ('attractiveness', 0.428), ('charm', 0.4163), ('plants', 0.4133)]]\n",
      "---------------------------------------------------------------\n",
      "=============================================================\n",
      "Document: doc_long\n",
      "Pipeline: uncompiled\n",
      "Pipeline uncompiled duration: 1.2894434833526611\n",
      "Pipeline uncompiled keywords: [[('flowers', 0.3747), ('plants', 0.3195), ('lavender', 0.3177), ('gardens', 0.313), ('pollinators', 0.3073)], [('flowers', 0.3747), ('plants', 0.3195), ('lavender', 0.3177), ('gardens', 0.313), ('pollinators', 0.3073)], [('flowers', 0.3747), ('plants', 0.3195), ('lavender', 0.3177), ('gardens', 0.313), ('pollinators', 0.3073)]]\n",
      "---------------------------------------------------------------\n",
      "Pipeline: hybrid\n",
      "Pipeline hybrid duration: 0.7622401857376099\n",
      "Pipeline hybrid keywords: [[('flowers', 0.3746), ('plants', 0.32), ('lavender', 0.3177), ('gardens', 0.3135), ('pollinators', 0.3081)], [('flowers', 0.3746), ('plants', 0.32), ('lavender', 0.3177), ('gardens', 0.3135), ('pollinators', 0.3081)], [('flowers', 0.3746), ('plants', 0.32), ('lavender', 0.3177), ('gardens', 0.3135), ('pollinators', 0.3081)]]\n",
      "---------------------------------------------------------------\n",
      "Pipeline: compiled_short\n",
      "Pipeline compiled_short duration: 0.4896356725692749\n",
      "Pipeline compiled_short keywords: [[('flowers', 0.7364), ('lavender', 0.5334), ('beauty', 0.5245), ('gardens', 0.5073), ('plants', 0.5039)], [('flowers', 0.7364), ('lavender', 0.5334), ('beauty', 0.5245), ('gardens', 0.5073), ('plants', 0.5039)], [('flowers', 0.7364), ('lavender', 0.5334), ('beauty', 0.5245), ('gardens', 0.5073), ('plants', 0.5039)]]\n",
      "---------------------------------------------------------------\n",
      "Pipeline: compiled_medium\n",
      "Pipeline compiled_medium duration: 0.5347669172286987\n",
      "Pipeline compiled_medium keywords: [[('flowers', 0.6033), ('lavender', 0.5648), ('plants', 0.5014), ('gardens', 0.4927), ('pollen', 0.4748)], [('flowers', 0.6033), ('lavender', 0.5648), ('plants', 0.5014), ('gardens', 0.4927), ('pollen', 0.4748)], [('flowers', 0.6033), ('lavender', 0.5648), ('plants', 0.5014), ('gardens', 0.4927), ('pollen', 0.4748)]]\n",
      "---------------------------------------------------------------\n",
      "Pipeline: compiled_long\n",
      "Pipeline compiled_long duration: 0.6340110635757447\n",
      "Pipeline compiled_long keywords: [[('flowers', 0.3751), ('plants', 0.3213), ('lavender', 0.3186), ('gardens', 0.3152), ('pollinators', 0.309)], [('flowers', 0.3751), ('plants', 0.3213), ('lavender', 0.3186), ('gardens', 0.3152), ('pollinators', 0.309)], [('flowers', 0.3751), ('plants', 0.3213), ('lavender', 0.3186), ('gardens', 0.3152), ('pollinators', 0.309)]]\n",
      "---------------------------------------------------------------\n",
      "=============================================================\n"
     ]
    }
   ],
   "source": [
    "import time\n",
    "\n",
    "n_runs = 50\n",
    "\n",
    "for doc_scenario in docs.keys():\n",
    "    \n",
    "    print(f'Document: {doc_scenario}')\n",
    "    keybert_results['n_tokens'][doc_scenario] = len(hf_pipeline.tokenizer(docs[doc_scenario][0],truncation=True)['input_ids'])\n",
    "    \n",
    "    for keybert_scenario in keybert_samples.keys():\n",
    "        \n",
    "        print(f'Pipeline: {keybert_scenario}')\n",
    "        \n",
    "        start = time.time()\n",
    "        \n",
    "        for i in range(n_runs):\n",
    "            keywords = keybert_samples[keybert_scenario].extract_keywords(docs[doc_scenario])\n",
    "            \n",
    "        keybert_results[keybert_scenario][doc_scenario] = (time.time() - start) / n_runs\n",
    "        \n",
    "        print(f'Pipeline {keybert_scenario} duration: {keybert_results[keybert_scenario][doc_scenario]}')\n",
    "        print(f'Pipeline {keybert_scenario} keywords: {keywords}')\n",
    "        print('---------------------------------------------------------------')\n",
    "        time.sleep(2)\n",
    "        \n",
    "    print(f'=============================================================')"
   ]
  },
  {
   "cell_type": "code",
   "execution_count": 21,
   "metadata": {},
   "outputs": [
    {
     "data": {
      "text/html": [
       "<div>\n",
       "<style scoped>\n",
       "    .dataframe tbody tr th:only-of-type {\n",
       "        vertical-align: middle;\n",
       "    }\n",
       "\n",
       "    .dataframe tbody tr th {\n",
       "        vertical-align: top;\n",
       "    }\n",
       "\n",
       "    .dataframe thead th {\n",
       "        text-align: right;\n",
       "    }\n",
       "</style>\n",
       "<table border=\"1\" class=\"dataframe\">\n",
       "  <thead>\n",
       "    <tr style=\"text-align: right;\">\n",
       "      <th></th>\n",
       "      <th>uncompiled</th>\n",
       "      <th>hybrid</th>\n",
       "      <th>compiled_medium</th>\n",
       "      <th>compiled_long</th>\n",
       "      <th>n_tokens</th>\n",
       "    </tr>\n",
       "  </thead>\n",
       "  <tbody>\n",
       "    <tr>\n",
       "      <th>doc_short</th>\n",
       "      <td>0.073664</td>\n",
       "      <td>0.054368</td>\n",
       "      <td>0.077978</td>\n",
       "      <td>0.183859</td>\n",
       "      <td>26</td>\n",
       "    </tr>\n",
       "    <tr>\n",
       "      <th>doc_short_medium</th>\n",
       "      <td>0.340919</td>\n",
       "      <td>0.199799</td>\n",
       "      <td>0.181506</td>\n",
       "      <td>0.290036</td>\n",
       "      <td>109</td>\n",
       "    </tr>\n",
       "    <tr>\n",
       "      <th>doc_medium</th>\n",
       "      <td>0.710269</td>\n",
       "      <td>0.426113</td>\n",
       "      <td>0.325059</td>\n",
       "      <td>0.422534</td>\n",
       "      <td>202</td>\n",
       "    </tr>\n",
       "    <tr>\n",
       "      <th>doc_medium_long</th>\n",
       "      <td>0.892405</td>\n",
       "      <td>0.525907</td>\n",
       "      <td>0.392816</td>\n",
       "      <td>0.490599</td>\n",
       "      <td>288</td>\n",
       "    </tr>\n",
       "    <tr>\n",
       "      <th>doc_long</th>\n",
       "      <td>1.289443</td>\n",
       "      <td>0.762240</td>\n",
       "      <td>0.534767</td>\n",
       "      <td>0.634011</td>\n",
       "      <td>497</td>\n",
       "    </tr>\n",
       "  </tbody>\n",
       "</table>\n",
       "</div>"
      ],
      "text/plain": [
       "                  uncompiled    hybrid  compiled_medium  compiled_long  \\\n",
       "doc_short           0.073664  0.054368         0.077978       0.183859   \n",
       "doc_short_medium    0.340919  0.199799         0.181506       0.290036   \n",
       "doc_medium          0.710269  0.426113         0.325059       0.422534   \n",
       "doc_medium_long     0.892405  0.525907         0.392816       0.490599   \n",
       "doc_long            1.289443  0.762240         0.534767       0.634011   \n",
       "\n",
       "                  n_tokens  \n",
       "doc_short               26  \n",
       "doc_short_medium       109  \n",
       "doc_medium             202  \n",
       "doc_medium_long        288  \n",
       "doc_long               497  "
      ]
     },
     "execution_count": 21,
     "metadata": {},
     "output_type": "execute_result"
    }
   ],
   "source": [
    "import pandas as pd\n",
    "\n",
    "results_df = pd.DataFrame(keybert_results)[['uncompiled','hybrid','compiled_medium','compiled_long','n_tokens']]\n",
    "results_df"
   ]
  },
  {
   "attachments": {},
   "cell_type": "markdown",
   "metadata": {},
   "source": [
    "The above shows the following:\n",
    "- a completely `uncompiled` keybert is not comptetitive to either `hybrid` or `compiled_long` keybert for non trivial documents of token length >= ~100\n",
    "    - since uncompiled pipelines are competitive with compiled pipelines for all documents **except** very short or very long ones (see `benchmarking_pipelines.ipynb`), this is largely driven by the embedding of keywords being much faster (3x - 4x) on the compiled word embedding pipeline\n",
    "- `hybrid` keybert is competitive with a fully compiled `compiled_long` keybert on all but long documents, and outperforms it at token length ~ 100\n",
    "    - compilation of the document embedding pipeline is therefore **sensible** if we expect the vast majority of **documents coming through to be >= / ~ 200 tokens**\n",
    "    - compilation of the document embedding pipeline is actually **beneficial** if we expect the vast majority of **documents coming through to be >= / ~ 450 tokens**"
   ]
  },
  {
   "cell_type": "markdown",
   "metadata": {},
   "source": []
  }
 ],
 "metadata": {
  "kernelspec": {
   "display_name": ".venv",
   "language": "python",
   "name": "python3"
  },
  "language_info": {
   "codemirror_mode": {
    "name": "ipython",
    "version": 3
   },
   "file_extension": ".py",
   "mimetype": "text/x-python",
   "name": "python",
   "nbconvert_exporter": "python",
   "pygments_lexer": "ipython3",
   "version": "3.8.16"
  },
  "orig_nbformat": 4
 },
 "nbformat": 4,
 "nbformat_minor": 2
}
