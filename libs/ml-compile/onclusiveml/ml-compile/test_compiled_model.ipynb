{
 "cells": [
  {
   "cell_type": "code",
   "execution_count": 1,
   "metadata": {},
   "outputs": [
    {
     "name": "stderr",
     "output_type": "stream",
     "text": [
      "/home/ec2-user/repositories/ml-mesh/.venv/lib/python3.8/site-packages/tqdm/auto.py:21: TqdmWarning: IProgress not found. Please update jupyter and ipywidgets. See https://ipywidgets.readthedocs.io/en/stable/user_install.html\n",
      "  from .autonotebook import tqdm as notebook_tqdm\n"
     ]
    }
   ],
   "source": [
    "from transformers import AutoTokenizer, AutoModel\n",
    "import torch\n",
    "import torch.neuron\n",
    "from compiled_model import CompiledModel, compile_model"
   ]
  },
  {
   "cell_type": "code",
   "execution_count": 2,
   "metadata": {},
   "outputs": [],
   "source": [
    "tokenizer = AutoTokenizer.from_pretrained(\"sentence-transformers/paraphrase-multilingual-MiniLM-L12-v2\")\n",
    "tokenizer.save_pretrained('./hf_tokenizer')\n",
    "\n",
    "model = AutoModel.from_pretrained(\"sentence-transformers/paraphrase-multilingual-MiniLM-L12-v2\", return_dict=True)\n",
    "model.save_pretrained('./hf_model')"
   ]
  },
  {
   "cell_type": "code",
   "execution_count": 3,
   "metadata": {},
   "outputs": [
    {
     "data": {
      "text/plain": [
       "(torch.Size([1, 50]), torch.Size([1, 50]))"
      ]
     },
     "execution_count": 3,
     "metadata": {},
     "output_type": "execute_result"
    }
   ],
   "source": [
    "SEQUENCE_MAX_LENGTH = 50\n",
    "\n",
    "tokens = tokenizer('this is a test sententce for tokenization.',return_tensors='pt',padding='max_length',max_length=SEQUENCE_MAX_LENGTH)\n",
    "tokens['input_ids'].size(), tokens['attention_mask'].size()"
   ]
  },
  {
   "cell_type": "code",
   "execution_count": 4,
   "metadata": {},
   "outputs": [
    {
     "data": {
      "text/plain": [
       "(torch.Size([1, 50, 384]), torch.Size([1, 384]))"
      ]
     },
     "execution_count": 4,
     "metadata": {},
     "output_type": "execute_result"
    }
   ],
   "source": [
    "model_output = model(input_ids=tokens['input_ids'],attention_mask=tokens['attention_mask'])\n",
    "model_output[0].size(), model_output[1].size()"
   ]
  },
  {
   "attachments": {},
   "cell_type": "markdown",
   "metadata": {},
   "source": [
    "### 1. Test `.from_model` + inference"
   ]
  },
  {
   "cell_type": "code",
   "execution_count": 5,
   "metadata": {},
   "outputs": [
    {
     "name": "stderr",
     "output_type": "stream",
     "text": [
      "INFO:Neuron:There are 3 ops of 1 different types in the TorchScript that are not compiled by neuron-cc: aten::embedding, (For more information see https://awsdocs-neuron.readthedocs-hosted.com/en/latest/release-notes/compiler/neuron-cc/neuron-cc-ops/neuron-cc-ops-pytorch.html)\n",
      "INFO:Neuron:Number of arithmetic operators (pre-compilation) before = 571, fused = 546, percent fused = 95.62%\n"
     ]
    },
    {
     "name": "stdout",
     "output_type": "stream",
     "text": [
      "WARNING:tensorflow:From /home/ec2-user/repositories/ml-mesh/.venv/lib/python3.8/site-packages/torch_neuron/ops/aten.py:2277: where (from tensorflow.python.ops.array_ops) is deprecated and will be removed in a future version.\n",
      "Instructions for updating:\n",
      "Use tf.where in 2.0, which has the same broadcast rule as np.where\n"
     ]
    },
    {
     "name": "stderr",
     "output_type": "stream",
     "text": [
      "INFO:Neuron:Compiler args type is <class 'list'> value is ['--fast-math', 'none']\n",
      "INFO:Neuron:Compiling function _NeuronGraph$686 with neuron-cc\n",
      "INFO:Neuron:Compiling with command line: '/home/ec2-user/repositories/ml-mesh/.venv/bin/neuron-cc compile /tmp/tmp75eh5rmu/graph_def.pb --framework TENSORFLOW --pipeline compile SaveTemps --output /tmp/tmp75eh5rmu/graph_def.neff --io-config {\"inputs\": {\"0:0\": [[1, 50, 384], \"float32\"], \"1:0\": [[1, 1, 1, 50], \"float32\"]}, \"outputs\": [\"BertEncoder_51/BertLayer_35/BertOutput_5/LayerNorm_7/aten_layer_norm/batchnorm/add_1:0\", \"BertPooler_52/Tanh_11/aten_tanh/Tanh:0\"]} --fast-math none --verbose 35'\n"
     ]
    },
    {
     "name": "stdout",
     "output_type": "stream",
     "text": [
      "huggingface/tokenizers: The current process just got forked, after parallelism has already been used. Disabling parallelism to avoid deadlocks...\n",
      "To disable this warning, you can either:\n",
      "\t- Avoid using `tokenizers` before the fork if possible\n",
      "\t- Explicitly set the environment variable TOKENIZERS_PARALLELISM=(true | false)\n",
      "....\n",
      "Compiler status PASS\n"
     ]
    },
    {
     "name": "stderr",
     "output_type": "stream",
     "text": [
      "INFO:Neuron:Number of arithmetic operators (post-compilation) before = 571, compiled = 546, percent compiled = 95.62%\n",
      "INFO:Neuron:The neuron partitioner created 1 sub-graphs\n",
      "INFO:Neuron:Neuron successfully compiled 1 sub-graphs, Total fused subgraphs = 1, Percent of model sub-graphs successfully compiled = 100.0%\n",
      "INFO:Neuron:Compiled these operators (and operator counts) to Neuron:\n",
      "INFO:Neuron: => aten::Int: 96\n",
      "INFO:Neuron: => aten::add: 36\n",
      "INFO:Neuron: => aten::contiguous: 12\n",
      "INFO:Neuron: => aten::div: 12\n",
      "INFO:Neuron: => aten::dropout: 37\n",
      "INFO:Neuron: => aten::gelu: 12\n",
      "INFO:Neuron: => aten::layer_norm: 25\n",
      "INFO:Neuron: => aten::linear: 73\n",
      "INFO:Neuron: => aten::matmul: 24\n",
      "INFO:Neuron: => aten::permute: 48\n",
      "INFO:Neuron: => aten::select: 1\n",
      "INFO:Neuron: => aten::size: 96\n",
      "INFO:Neuron: => aten::slice: 1\n",
      "INFO:Neuron: => aten::softmax: 12\n",
      "INFO:Neuron: => aten::tanh: 1\n",
      "INFO:Neuron: => aten::transpose: 12\n",
      "INFO:Neuron: => aten::view: 48\n",
      "INFO:Neuron:Not compiled operators (and operator counts) to Neuron:\n",
      "INFO:Neuron: => aten::Int: 4 [supported]\n",
      "INFO:Neuron: => aten::add: 2 [supported]\n",
      "INFO:Neuron: => aten::add_: 1 [supported]\n",
      "INFO:Neuron: => aten::embedding: 3 [not supported]\n",
      "INFO:Neuron: => aten::expand: 1 [supported]\n",
      "INFO:Neuron: => aten::mul: 1 [supported]\n",
      "INFO:Neuron: => aten::rsub: 1 [supported]\n",
      "INFO:Neuron: => aten::size: 3 [supported]\n",
      "INFO:Neuron: => aten::slice: 6 [supported]\n",
      "INFO:Neuron: => aten::to: 1 [supported]\n",
      "INFO:Neuron: => aten::unsqueeze: 2 [supported]\n"
     ]
    },
    {
     "data": {
      "text/plain": [
       "(AwsNeuronGraphModule(\n",
       "   original_name=AwsNeuronGraphModule\n",
       "   (_NeuronGraph#82): NeuronModuleV2(original_name=NeuronModuleV2)\n",
       " ),\n",
       " BertConfig {\n",
       "   \"_name_or_path\": \"sentence-transformers/paraphrase-multilingual-MiniLM-L12-v2\",\n",
       "   \"architectures\": [\n",
       "     \"BertModel\"\n",
       "   ],\n",
       "   \"attention_probs_dropout_prob\": 0.1,\n",
       "   \"classifier_dropout\": null,\n",
       "   \"gradient_checkpointing\": false,\n",
       "   \"hidden_act\": \"gelu\",\n",
       "   \"hidden_dropout_prob\": 0.1,\n",
       "   \"hidden_size\": 384,\n",
       "   \"initializer_range\": 0.02,\n",
       "   \"intermediate_size\": 1536,\n",
       "   \"layer_norm_eps\": 1e-12,\n",
       "   \"max_position_embeddings\": 512,\n",
       "   \"model_type\": \"bert\",\n",
       "   \"num_attention_heads\": 12,\n",
       "   \"num_hidden_layers\": 12,\n",
       "   \"pad_token_id\": 0,\n",
       "   \"position_embedding_type\": \"absolute\",\n",
       "   \"torch_dtype\": \"float32\",\n",
       "   \"transformers_version\": \"4.27.1\",\n",
       "   \"type_vocab_size\": 2,\n",
       "   \"use_cache\": true,\n",
       "   \"vocab_size\": 250037\n",
       " },\n",
       " {'tracing_kwargs': {'strict': False,\n",
       "   'dynamic_batch_size': True,\n",
       "   'compiler_args': ['--fast-math', 'none']},\n",
       "  'tracing__batch_size': 1,\n",
       "  'tracing__max_length': 50,\n",
       "  'tracing__neuron': True})"
      ]
     },
     "execution_count": 5,
     "metadata": {},
     "output_type": "execute_result"
    }
   ],
   "source": [
    "compiled_model = CompiledModel.from_model(model, max_length=SEQUENCE_MAX_LENGTH, strict=False)\n",
    "compiled_model.model, compiled_model.config, compiled_model.compilation_specs, compiled_model.__class__"
   ]
  },
  {
   "cell_type": "code",
   "execution_count": 6,
   "metadata": {},
   "outputs": [
    {
     "name": "stdout",
     "output_type": "stream",
     "text": [
      "huggingface/tokenizers: The current process just got forked, after parallelism has already been used. Disabling parallelism to avoid deadlocks...\n",
      "To disable this warning, you can either:\n",
      "\t- Avoid using `tokenizers` before the fork if possible\n",
      "\t- Explicitly set the environment variable TOKENIZERS_PARALLELISM=(true | false)\n",
      "huggingface/tokenizers: The current process just got forked, after parallelism has already been used. Disabling parallelism to avoid deadlocks...\n",
      "To disable this warning, you can either:\n",
      "\t- Avoid using `tokenizers` before the fork if possible\n",
      "\t- Explicitly set the environment variable TOKENIZERS_PARALLELISM=(true | false)\n",
      "huggingface/tokenizers: The current process just got forked, after parallelism has already been used. Disabling parallelism to avoid deadlocks...\n",
      "To disable this warning, you can either:\n",
      "\t- Avoid using `tokenizers` before the fork if possible\n",
      "\t- Explicitly set the environment variable TOKENIZERS_PARALLELISM=(true | false)\n",
      "huggingface/tokenizers: The current process just got forked, after parallelism has already been used. Disabling parallelism to avoid deadlocks...\n",
      "To disable this warning, you can either:\n",
      "\t- Avoid using `tokenizers` before the fork if possible\n",
      "\t- Explicitly set the environment variable TOKENIZERS_PARALLELISM=(true | false)\n",
      "Model output is a dictionary. Converting\n"
     ]
    },
    {
     "data": {
      "text/plain": [
       "(torch.Size([1, 50, 384]), torch.Size([1, 384]))"
      ]
     },
     "execution_count": 6,
     "metadata": {},
     "output_type": "execute_result"
    }
   ],
   "source": [
    "compiled_model_output = compiled_model(input_ids=tokens['input_ids'],attention_mask=tokens['attention_mask'])\n",
    "compiled_model_output[0].size(), compiled_model_output[1].size()"
   ]
  },
  {
   "cell_type": "code",
   "execution_count": 7,
   "metadata": {},
   "outputs": [
    {
     "data": {
      "text/plain": [
       "(tensor([[[ 0.0597,  0.6885, -0.1838,  ...,  0.0782,  0.2163, -0.2030],\n",
       "          [-0.4493,  0.7935, -0.2839,  ...,  0.4988,  0.5003,  0.4248],\n",
       "          [-0.4368,  0.7815, -0.3105,  ...,  0.3446,  0.4974,  0.0964],\n",
       "          ...,\n",
       "          [ 0.0673,  0.1325, -0.1477,  ...,  0.0170, -0.1464,  0.1434],\n",
       "          [ 0.0546,  0.1333, -0.0947,  ...,  0.0360, -0.1197,  0.1503],\n",
       "          [ 0.0159,  0.1558, -0.0797,  ...,  0.0489, -0.0968,  0.1202]]],\n",
       "        grad_fn=<NativeLayerNormBackward0>),\n",
       " tensor([[[ 0.0600,  0.6861, -0.1808,  ...,  0.0760,  0.2152, -0.2020],\n",
       "          [-0.4481,  0.7930, -0.2825,  ...,  0.5024,  0.4955,  0.4217],\n",
       "          [-0.4355,  0.7804, -0.3085,  ...,  0.3451,  0.4957,  0.0955],\n",
       "          ...,\n",
       "          [ 0.0680,  0.1299, -0.1483,  ...,  0.0167, -0.1490,  0.1402],\n",
       "          [ 0.0531,  0.1313, -0.0929,  ...,  0.0373, -0.1207,  0.1483],\n",
       "          [ 0.0166,  0.1549, -0.0795,  ...,  0.0500, -0.0997,  0.1182]]]))"
      ]
     },
     "execution_count": 7,
     "metadata": {},
     "output_type": "execute_result"
    }
   ],
   "source": [
    "model_output[0], compiled_model_output[0]"
   ]
  },
  {
   "cell_type": "code",
   "execution_count": 8,
   "metadata": {},
   "outputs": [
    {
     "data": {
      "text/plain": [
       "True"
      ]
     },
     "execution_count": 8,
     "metadata": {},
     "output_type": "execute_result"
    }
   ],
   "source": [
    "torch.allclose(model_output[0],compiled_model_output[0], atol=1e-02, rtol=1e-02)"
   ]
  },
  {
   "cell_type": "code",
   "execution_count": 9,
   "metadata": {},
   "outputs": [
    {
     "data": {
      "text/plain": [
       "{'tracing_kwargs': {'strict': False,\n",
       "  'dynamic_batch_size': True,\n",
       "  'compiler_args': ['--fast-math', 'none']},\n",
       " 'tracing__batch_size': 1,\n",
       " 'tracing__max_length': 50,\n",
       " 'tracing__neuron': True}"
      ]
     },
     "execution_count": 9,
     "metadata": {},
     "output_type": "execute_result"
    }
   ],
   "source": [
    "compiled_model.compilation_specs"
   ]
  },
  {
   "attachments": {},
   "cell_type": "markdown",
   "metadata": {},
   "source": [
    "### Test `.save_pretrained` & `load_pretrained` + inference"
   ]
  },
  {
   "cell_type": "code",
   "execution_count": 10,
   "metadata": {},
   "outputs": [],
   "source": [
    "compiled_model.save_pretrained('./compiled_model')"
   ]
  },
  {
   "cell_type": "code",
   "execution_count": 11,
   "metadata": {},
   "outputs": [],
   "source": [
    "compiled_model_reloaded = CompiledModel.from_pretrained('./compiled_model')"
   ]
  },
  {
   "cell_type": "code",
   "execution_count": 12,
   "metadata": {},
   "outputs": [
    {
     "name": "stdout",
     "output_type": "stream",
     "text": [
      "Model output is a dictionary. Converting\n"
     ]
    },
    {
     "data": {
      "text/plain": [
       "(torch.Size([1, 50, 384]), torch.Size([1, 384]))"
      ]
     },
     "execution_count": 12,
     "metadata": {},
     "output_type": "execute_result"
    }
   ],
   "source": [
    "compiled_model_reloaded_output = compiled_model_reloaded(tokens['input_ids'],tokens['attention_mask'])\n",
    "compiled_model_reloaded_output[0].size(), compiled_model_reloaded_output[1].size()"
   ]
  },
  {
   "cell_type": "code",
   "execution_count": 13,
   "metadata": {},
   "outputs": [
    {
     "data": {
      "text/plain": [
       "(tensor([[[ 0.0600,  0.6861, -0.1808,  ...,  0.0760,  0.2152, -0.2020],\n",
       "          [-0.4481,  0.7930, -0.2825,  ...,  0.5024,  0.4955,  0.4217],\n",
       "          [-0.4355,  0.7804, -0.3085,  ...,  0.3451,  0.4957,  0.0955],\n",
       "          ...,\n",
       "          [ 0.0680,  0.1299, -0.1483,  ...,  0.0167, -0.1490,  0.1402],\n",
       "          [ 0.0531,  0.1313, -0.0929,  ...,  0.0373, -0.1207,  0.1483],\n",
       "          [ 0.0166,  0.1549, -0.0795,  ...,  0.0500, -0.0997,  0.1182]]]),\n",
       " tensor([[[ 0.0600,  0.6861, -0.1808,  ...,  0.0760,  0.2152, -0.2020],\n",
       "          [-0.4481,  0.7930, -0.2825,  ...,  0.5024,  0.4955,  0.4217],\n",
       "          [-0.4355,  0.7804, -0.3085,  ...,  0.3451,  0.4957,  0.0955],\n",
       "          ...,\n",
       "          [ 0.0680,  0.1299, -0.1483,  ...,  0.0167, -0.1490,  0.1402],\n",
       "          [ 0.0531,  0.1313, -0.0929,  ...,  0.0373, -0.1207,  0.1483],\n",
       "          [ 0.0166,  0.1549, -0.0795,  ...,  0.0500, -0.0997,  0.1182]]]))"
      ]
     },
     "execution_count": 13,
     "metadata": {},
     "output_type": "execute_result"
    }
   ],
   "source": [
    "compiled_model_reloaded_output[0], compiled_model_reloaded_output[0]"
   ]
  },
  {
   "cell_type": "code",
   "execution_count": 14,
   "metadata": {},
   "outputs": [
    {
     "data": {
      "text/plain": [
       "tensor(True)"
      ]
     },
     "execution_count": 14,
     "metadata": {},
     "output_type": "execute_result"
    }
   ],
   "source": [
    "torch.all(compiled_model_output[0].eq(compiled_model_reloaded_output[0]))"
   ]
  },
  {
   "cell_type": "code",
   "execution_count": 15,
   "metadata": {},
   "outputs": [
    {
     "data": {
      "text/plain": [
       "({'tracing_kwargs': {'strict': False,\n",
       "   'dynamic_batch_size': True,\n",
       "   'compiler_args': ['--fast-math', 'none']},\n",
       "  'tracing__batch_size': 1,\n",
       "  'tracing__max_length': 50,\n",
       "  'tracing__neuron': True},\n",
       " {'tracing_kwargs': {'strict': False,\n",
       "   'dynamic_batch_size': True,\n",
       "   'compiler_args': ['--fast-math', 'none']},\n",
       "  'tracing__batch_size': 1,\n",
       "  'tracing__max_length': 50,\n",
       "  'tracing__neuron': True})"
      ]
     },
     "execution_count": 15,
     "metadata": {},
     "output_type": "execute_result"
    }
   ],
   "source": [
    "compiled_model.compilation_specs, compiled_model_reloaded.compilation_specs"
   ]
  },
  {
   "cell_type": "code",
   "execution_count": 16,
   "metadata": {},
   "outputs": [
    {
     "data": {
      "text/plain": [
       "True"
      ]
     },
     "execution_count": 16,
     "metadata": {},
     "output_type": "execute_result"
    }
   ],
   "source": [
    "compiled_model.compilation_specs == compiled_model_reloaded.compilation_specs"
   ]
  }
 ],
 "metadata": {
  "kernelspec": {
   "display_name": ".venv",
   "language": "python",
   "name": "python3"
  },
  "language_info": {
   "codemirror_mode": {
    "name": "ipython",
    "version": 3
   },
   "file_extension": ".py",
   "mimetype": "text/x-python",
   "name": "python",
   "nbconvert_exporter": "python",
   "pygments_lexer": "ipython3",
   "version": "3.8.16"
  },
  "orig_nbformat": 4
 },
 "nbformat": 4,
 "nbformat_minor": 2
}
