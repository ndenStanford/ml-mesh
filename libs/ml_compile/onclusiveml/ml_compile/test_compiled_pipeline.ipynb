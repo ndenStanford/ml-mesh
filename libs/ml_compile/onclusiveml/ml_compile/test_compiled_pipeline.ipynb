{
 "cells": [
  {
   "cell_type": "code",
   "execution_count": 38,
   "metadata": {},
   "outputs": [],
   "source": [
    "from transformers.pipelines import pipeline, Pipeline\n",
    "from compiled_tokenizer import CompiledTokenizer\n",
    "from compiled_model import CompiledModel\n",
    "import torch\n",
    "import torch.neuron"
   ]
  },
  {
   "cell_type": "code",
   "execution_count": 30,
   "metadata": {},
   "outputs": [],
   "source": [
    "sample_input = 'This is an example sentence. We use it to compare tokenizers and their compiled variants.'"
   ]
  },
  {
   "cell_type": "code",
   "execution_count": 31,
   "metadata": {},
   "outputs": [],
   "source": [
    "hf_pipeline = pipeline('feature-extraction',\"sentence-transformers/paraphrase-multilingual-MiniLM-L12-v2\")"
   ]
  },
  {
   "cell_type": "code",
   "execution_count": 32,
   "metadata": {},
   "outputs": [
    {
     "data": {
      "text/plain": [
       "transformers.pipelines.feature_extraction.FeatureExtractionPipeline"
      ]
     },
     "execution_count": 32,
     "metadata": {},
     "output_type": "execute_result"
    }
   ],
   "source": [
    "type(hf_pipeline)"
   ]
  },
  {
   "cell_type": "code",
   "execution_count": 33,
   "metadata": {},
   "outputs": [],
   "source": [
    "hf_pipeline_output = hf_pipeline(sample_input)"
   ]
  },
  {
   "cell_type": "code",
   "execution_count": 34,
   "metadata": {},
   "outputs": [
    {
     "data": {
      "text/plain": [
       "(list, 1, 25, 384)"
      ]
     },
     "execution_count": 34,
     "metadata": {},
     "output_type": "execute_result"
    }
   ],
   "source": [
    "type(hf_pipeline_output), len(hf_pipeline_output), len(hf_pipeline_output[0]), len(hf_pipeline_output[0][0]) # 1 x n_tokens x n_embedd_dim "
   ]
  },
  {
   "cell_type": "code",
   "execution_count": 35,
   "metadata": {},
   "outputs": [
    {
     "data": {
      "text/plain": [
       "[0.2016810029745102,\n",
       " 0.28019487857818604,\n",
       " 0.1350724846124649,\n",
       " -0.5622077584266663,\n",
       " -0.02432403899729252,\n",
       " -0.23179000616073608,\n",
       " 0.4285317063331604,\n",
       " 0.4974362552165985,\n",
       " -0.13233201205730438,\n",
       " -0.2266368865966797,\n",
       " -0.2930293083190918,\n",
       " -0.14483046531677246,\n",
       " -0.1874832659959793,\n",
       " -0.5158872604370117,\n",
       " 0.419760137796402]"
      ]
     },
     "execution_count": 35,
     "metadata": {},
     "output_type": "execute_result"
    }
   ],
   "source": [
    "hf_pipeline_output[0][0][:15]"
   ]
  },
  {
   "cell_type": "code",
   "execution_count": 82,
   "metadata": {},
   "outputs": [
    {
     "name": "stdout",
     "output_type": "stream",
     "text": [
      "<class 'transformers.models.bert.tokenization_bert_fast.BertTokenizerFast'> <class 'compiled_model.CompiledModel'>\n",
      "<class 'transformers.pipelines.feature_extraction.FeatureExtractionPipeline'>\n"
     ]
    }
   ],
   "source": [
    "compiled_tokenizer = CompiledTokenizer.from_pretrained('./compiled_tokenizer')\n",
    "compiled_model = CompiledModel.from_pretrained('./compiled_model')\n",
    "print(type(compiled_tokenizer), type(compiled_model))\n",
    "hf_compiled_pipeline = pipeline('feature-extraction',tokenizer=compiled_tokenizer, model=compiled_model)\n",
    "print(type(hf_compiled_pipeline))"
   ]
  },
  {
   "cell_type": "code",
   "execution_count": 83,
   "metadata": {},
   "outputs": [
    {
     "data": {
      "text/plain": [
       "transformers.pipelines.feature_extraction.FeatureExtractionPipeline"
      ]
     },
     "execution_count": 83,
     "metadata": {},
     "output_type": "execute_result"
    }
   ],
   "source": [
    "type(hf_compiled_pipeline)"
   ]
  },
  {
   "cell_type": "code",
   "execution_count": 85,
   "metadata": {},
   "outputs": [
    {
     "data": {
      "text/plain": [
       "({'padding': 'max_length',\n",
       "  'truncation': True,\n",
       "  'add_special_tokens': True,\n",
       "  'max_length': 50},\n",
       " True)"
      ]
     },
     "execution_count": 85,
     "metadata": {},
     "output_type": "execute_result"
    }
   ],
   "source": [
    "hf_compiled_pipeline.tokenizer.tokenization_settings, hf_compiled_pipeline.tokenizer.compiled"
   ]
  },
  {
   "cell_type": "code",
   "execution_count": 87,
   "metadata": {},
   "outputs": [
    {
     "data": {
      "text/plain": [
       "{'input_ids': [0, 3293, 83, 142, 27781, 149357, 5, 1401, 4527, 442, 47, 69101, 47, 1098, 52825, 7, 136, 2363, 375, 5974, 297, 20117, 7, 5, 2, 1, 1, 1, 1, 1, 1, 1, 1, 1, 1, 1, 1, 1, 1, 1, 1, 1, 1, 1, 1, 1, 1, 1, 1, 1], 'token_type_ids': [0, 0, 0, 0, 0, 0, 0, 0, 0, 0, 0, 0, 0, 0, 0, 0, 0, 0, 0, 0, 0, 0, 0, 0, 0, 0, 0, 0, 0, 0, 0, 0, 0, 0, 0, 0, 0, 0, 0, 0, 0, 0, 0, 0, 0, 0, 0, 0, 0, 0], 'attention_mask': [1, 1, 1, 1, 1, 1, 1, 1, 1, 1, 1, 1, 1, 1, 1, 1, 1, 1, 1, 1, 1, 1, 1, 1, 1, 0, 0, 0, 0, 0, 0, 0, 0, 0, 0, 0, 0, 0, 0, 0, 0, 0, 0, 0, 0, 0, 0, 0, 0, 0]}"
      ]
     },
     "execution_count": 87,
     "metadata": {},
     "output_type": "execute_result"
    }
   ],
   "source": [
    "hf_compiled_pipeline_configured_output = hf_compiled_pipeline.tokenizer.configured_tokenize(sample_input)\n",
    "hf_compiled_pipeline_configured_output"
   ]
  },
  {
   "cell_type": "code",
   "execution_count": 88,
   "metadata": {},
   "outputs": [
    {
     "name": "stdout",
     "output_type": "stream",
     "text": [
      "Model output is a dictionary. Converting\n"
     ]
    }
   ],
   "source": [
    "hf_compiled_pipeline_output = hf_compiled_pipeline(sample_input,tokenize_kwargs=hf_compiled_pipeline.tokenizer.tokenization_settings)"
   ]
  },
  {
   "cell_type": "code",
   "execution_count": 89,
   "metadata": {},
   "outputs": [
    {
     "data": {
      "text/plain": [
       "(list, 50, 384)"
      ]
     },
     "execution_count": 89,
     "metadata": {},
     "output_type": "execute_result"
    }
   ],
   "source": [
    "type(hf_compiled_pipeline_output), len(hf_compiled_pipeline_output[0]), len(hf_compiled_pipeline_output[0][0]) # 1 x n_tokens x n_embedd_dim "
   ]
  },
  {
   "cell_type": "code",
   "execution_count": 90,
   "metadata": {},
   "outputs": [
    {
     "data": {
      "text/plain": [
       "[0.20376674830913544,\n",
       " 0.2765544056892395,\n",
       " 0.13411857187747955,\n",
       " -0.5617780685424805,\n",
       " -0.024763502180576324,\n",
       " -0.22976504266262054,\n",
       " 0.4279550313949585,\n",
       " 0.49747270345687866,\n",
       " -0.13185089826583862,\n",
       " -0.22668159008026123,\n",
       " -0.28989726305007935,\n",
       " -0.1457303762435913,\n",
       " -0.18916262686252594,\n",
       " -0.5175866484642029,\n",
       " 0.4199066758155823]"
      ]
     },
     "execution_count": 90,
     "metadata": {},
     "output_type": "execute_result"
    }
   ],
   "source": [
    "hf_compiled_pipeline_output[0][0][:15]"
   ]
  },
  {
   "cell_type": "code",
   "execution_count": 98,
   "metadata": {},
   "outputs": [
    {
     "name": "stdout",
     "output_type": "stream",
     "text": [
      "0.2015596479177475 (generic hf) | 0.20426766574382782 (compiled)\n",
      "0.28036993741989136 (generic hf) | 0.2775125205516815 (compiled)\n",
      "0.13522349298000336 (generic hf) | 0.1341019719839096 (compiled)\n",
      "-0.5623601675033569 (generic hf) | -0.5606499910354614 (compiled)\n",
      "-0.024141062051057816 (generic hf) | -0.024146482348442078 (compiled)\n",
      "-0.23195278644561768 (generic hf) | -0.22975675761699677 (compiled)\n",
      "0.4286251962184906 (generic hf) | 0.4270547926425934 (compiled)\n",
      "0.4972536861896515 (generic hf) | 0.4963544011116028 (compiled)\n",
      "-0.13238519430160522 (generic hf) | -0.13068823516368866 (compiled)\n",
      "-0.22663092613220215 (generic hf) | -0.22723890841007233 (compiled)\n",
      "-0.2931181490421295 (generic hf) | -0.2902343273162842 (compiled)\n",
      "-0.14490890502929688 (generic hf) | -0.14671768248081207 (compiled)\n",
      "-0.18754956126213074 (generic hf) | -0.18938593566417694 (compiled)\n",
      "-0.5160385370254517 (generic hf) | -0.5172978043556213 (compiled)\n",
      "0.4198281466960907 (generic hf) | 0.42024022340774536 (compiled)\n",
      "-0.7098144888877869 (generic hf) | -0.7088834643363953 (compiled)\n",
      "0.5738400220870972 (generic hf) | 0.5697484016418457 (compiled)\n",
      "0.25826382637023926 (generic hf) | 0.25536447763442993 (compiled)\n",
      "-0.14827586710453033 (generic hf) | -0.150798961520195 (compiled)\n",
      "0.09857144951820374 (generic hf) | 0.10200034081935883 (compiled)\n",
      "0.08975348621606827 (generic hf) | 0.08726120740175247 (compiled)\n",
      "-0.05548957735300064 (generic hf) | -0.05760987848043442 (compiled)\n",
      "0.057813674211502075 (generic hf) | 0.05603359639644623 (compiled)\n",
      "0.1467253714799881 (generic hf) | 0.1459590494632721 (compiled)\n",
      "-0.43540212512016296 (generic hf) | -0.4370891749858856 (compiled)\n",
      "0.0952458381652832 (generic hf) | 0.09431789815425873 (compiled)\n",
      "-0.03770403563976288 (generic hf) | -0.039752520620822906 (compiled)\n",
      "0.05705441161990166 (generic hf) | 0.055966414511203766 (compiled)\n",
      "0.07292231917381287 (generic hf) | 0.07479725778102875 (compiled)\n",
      "-0.21687115728855133 (generic hf) | -0.2173961102962494 (compiled)\n",
      "-0.1845012754201889 (generic hf) | -0.1824435591697693 (compiled)\n",
      "0.13540057837963104 (generic hf) | 0.1331702619791031 (compiled)\n",
      "0.0911862850189209 (generic hf) | 0.09186665713787079 (compiled)\n",
      "-0.3721463084220886 (generic hf) | -0.37219110131263733 (compiled)\n",
      "-0.030141450464725494 (generic hf) | -0.03254777193069458 (compiled)\n",
      "1.0497510433197021 (generic hf) | 1.0494197607040405 (compiled)\n",
      "0.09645312279462814 (generic hf) | 0.0949443131685257 (compiled)\n",
      "0.3424135446548462 (generic hf) | 0.34025394916534424 (compiled)\n",
      "0.058040689677000046 (generic hf) | 0.05706089735031128 (compiled)\n",
      "-0.12478598952293396 (generic hf) | -0.12354728579521179 (compiled)\n",
      "-0.10786810517311096 (generic hf) | -0.10949143022298813 (compiled)\n",
      "-0.16243620216846466 (generic hf) | -0.15834961831569672 (compiled)\n",
      "0.11292757093906403 (generic hf) | 0.11306922882795334 (compiled)\n",
      "0.4972168207168579 (generic hf) | 0.49944475293159485 (compiled)\n",
      "-0.2231174260377884 (generic hf) | -0.22058528661727905 (compiled)\n",
      "-0.26286032795906067 (generic hf) | -0.26502126455307007 (compiled)\n",
      "0.04018021747469902 (generic hf) | 0.03787700831890106 (compiled)\n",
      "0.09085922688245773 (generic hf) | 0.0897868275642395 (compiled)\n",
      "0.03855415806174278 (generic hf) | 0.03775688633322716 (compiled)\n",
      "-0.03728361800312996 (generic hf) | -0.03539779782295227 (compiled)\n",
      "0.10779453814029694 (generic hf) | 0.10737203061580658 (compiled)\n",
      "-0.1689869612455368 (generic hf) | -0.17073316872119904 (compiled)\n",
      "-0.3074435293674469 (generic hf) | -0.30715712904930115 (compiled)\n",
      "0.2624061107635498 (generic hf) | 0.26103007793426514 (compiled)\n",
      "0.2585585117340088 (generic hf) | 0.2595202922821045 (compiled)\n",
      "-0.010710490867495537 (generic hf) | -0.016105767339468002 (compiled)\n",
      "-0.07970726490020752 (generic hf) | -0.083504319190979 (compiled)\n",
      "0.017538366839289665 (generic hf) | 0.01928892359137535 (compiled)\n",
      "0.20469975471496582 (generic hf) | 0.20381121337413788 (compiled)\n",
      "0.06151112541556358 (generic hf) | 0.06426595151424408 (compiled)\n",
      "-0.2951336205005646 (generic hf) | -0.29296255111694336 (compiled)\n",
      "0.16055096685886383 (generic hf) | 0.15785685181617737 (compiled)\n",
      "-0.6451174020767212 (generic hf) | -0.6403477191925049 (compiled)\n",
      "0.37999749183654785 (generic hf) | 0.3804856240749359 (compiled)\n",
      "-0.2100333571434021 (generic hf) | -0.21443641185760498 (compiled)\n",
      "-0.30633580684661865 (generic hf) | -0.3080389201641083 (compiled)\n",
      "0.4433753490447998 (generic hf) | 0.4439181685447693 (compiled)\n",
      "-0.04228421300649643 (generic hf) | -0.041481003165245056 (compiled)\n",
      "-0.2999304234981537 (generic hf) | -0.2998586595058441 (compiled)\n",
      "0.5421203970909119 (generic hf) | 0.5424463748931885 (compiled)\n",
      "0.0678386464715004 (generic hf) | 0.06792330741882324 (compiled)\n",
      "-0.1364891082048416 (generic hf) | -0.13727867603302002 (compiled)\n",
      "-0.15089140832424164 (generic hf) | -0.15141060948371887 (compiled)\n",
      "0.143882155418396 (generic hf) | 0.14025677740573883 (compiled)\n",
      "-0.06279417127370834 (generic hf) | -0.06487592309713364 (compiled)\n",
      "0.08292443305253983 (generic hf) | 0.08059190213680267 (compiled)\n",
      "-0.2500595450401306 (generic hf) | -0.24834483861923218 (compiled)\n",
      "0.285077303647995 (generic hf) | 0.28701868653297424 (compiled)\n",
      "-0.2351953089237213 (generic hf) | -0.23572927713394165 (compiled)\n",
      "-0.4287174940109253 (generic hf) | -0.429423987865448 (compiled)\n",
      "-0.20982997119426727 (generic hf) | -0.2080080509185791 (compiled)\n",
      "0.07023918628692627 (generic hf) | 0.07187853753566742 (compiled)\n",
      "0.017760593444108963 (generic hf) | 0.016301752999424934 (compiled)\n",
      "-0.4193686246871948 (generic hf) | -0.4205712676048279 (compiled)\n",
      "-0.0011610937071964145 (generic hf) | -0.0017088167369365692 (compiled)\n",
      "0.059424351900815964 (generic hf) | 0.061387065798044205 (compiled)\n",
      "-0.14094002544879913 (generic hf) | -0.1421566903591156 (compiled)\n",
      "0.005286423955112696 (generic hf) | 0.004875242710113525 (compiled)\n",
      "0.5471780300140381 (generic hf) | 0.5461971759796143 (compiled)\n",
      "0.07472505420446396 (generic hf) | 0.0736963078379631 (compiled)\n",
      "-0.271698921918869 (generic hf) | -0.2710026204586029 (compiled)\n",
      "-0.02197660692036152 (generic hf) | -0.02265257015824318 (compiled)\n",
      "0.6412983536720276 (generic hf) | 0.6403403282165527 (compiled)\n",
      "-0.06985366344451904 (generic hf) | -0.06940791755914688 (compiled)\n",
      "-0.07746227830648422 (generic hf) | -0.07471977174282074 (compiled)\n",
      "-0.4387914538383484 (generic hf) | -0.43527764081954956 (compiled)\n",
      "-0.031992364674806595 (generic hf) | -0.0326538011431694 (compiled)\n",
      "0.050492510199546814 (generic hf) | 0.04850185662508011 (compiled)\n",
      "0.38505420088768005 (generic hf) | 0.3895147740840912 (compiled)\n",
      "1.032015085220337 (generic hf) | 1.0326355695724487 (compiled)\n",
      "-0.3834461271762848 (generic hf) | -0.38507282733917236 (compiled)\n",
      "-0.010168004781007767 (generic hf) | -0.00862518697977066 (compiled)\n",
      "-0.006565279792994261 (generic hf) | -0.009021677076816559 (compiled)\n",
      "-0.13100825250148773 (generic hf) | -0.12831991910934448 (compiled)\n",
      "0.12904268503189087 (generic hf) | 0.12913839519023895 (compiled)\n",
      "-0.10128652304410934 (generic hf) | -0.10070954263210297 (compiled)\n",
      "0.046504370868206024 (generic hf) | 0.0472741574048996 (compiled)\n",
      "-0.12066717445850372 (generic hf) | -0.11563671380281448 (compiled)\n",
      "0.4551761746406555 (generic hf) | 0.45545145869255066 (compiled)\n",
      "-0.07612644881010056 (generic hf) | -0.07796268165111542 (compiled)\n",
      "0.17827463150024414 (generic hf) | 0.17770549654960632 (compiled)\n",
      "0.5208266377449036 (generic hf) | 0.5183363556861877 (compiled)\n",
      "-0.18127214908599854 (generic hf) | -0.1797047257423401 (compiled)\n",
      "-0.183425635099411 (generic hf) | -0.1830451786518097 (compiled)\n",
      "-0.0237248744815588 (generic hf) | -0.020717762410640717 (compiled)\n",
      "-0.3262743055820465 (generic hf) | -0.32517945766448975 (compiled)\n",
      "0.10752236098051071 (generic hf) | 0.105961374938488 (compiled)\n",
      "0.04168739914894104 (generic hf) | 0.04472339525818825 (compiled)\n",
      "0.18011784553527832 (generic hf) | 0.18367387354373932 (compiled)\n",
      "0.12223204970359802 (generic hf) | 0.12192758917808533 (compiled)\n",
      "-0.06495579332113266 (generic hf) | -0.06360422819852829 (compiled)\n",
      "-0.22075790166854858 (generic hf) | -0.22166350483894348 (compiled)\n",
      "0.020631467923521996 (generic hf) | 0.022309742867946625 (compiled)\n",
      "0.5795033574104309 (generic hf) | 0.5774619579315186 (compiled)\n",
      "0.014841455034911633 (generic hf) | 0.01454945094883442 (compiled)\n",
      "-0.646544873714447 (generic hf) | -0.6556909680366516 (compiled)\n",
      "0.42819392681121826 (generic hf) | 0.4260678291320801 (compiled)\n",
      "0.17686516046524048 (generic hf) | 0.17690925300121307 (compiled)\n",
      "0.03844299539923668 (generic hf) | 0.03784526512026787 (compiled)\n",
      "-0.13610439002513885 (generic hf) | -0.13858813047409058 (compiled)\n",
      "0.1532507687807083 (generic hf) | 0.1553068608045578 (compiled)\n",
      "-0.09620881080627441 (generic hf) | -0.09335625171661377 (compiled)\n",
      "-0.2671217918395996 (generic hf) | -0.26816660165786743 (compiled)\n",
      "0.24937115609645844 (generic hf) | 0.24647256731987 (compiled)\n",
      "0.16083212196826935 (generic hf) | 0.16255465149879456 (compiled)\n",
      "-0.3310820460319519 (generic hf) | -0.32919156551361084 (compiled)\n",
      "-0.047895848751068115 (generic hf) | -0.04852258414030075 (compiled)\n",
      "-0.1552141010761261 (generic hf) | -0.15618208050727844 (compiled)\n",
      "0.29942888021469116 (generic hf) | 0.29689905047416687 (compiled)\n",
      "0.05280579999089241 (generic hf) | 0.05352170765399933 (compiled)\n",
      "-0.15675684809684753 (generic hf) | -0.15563395619392395 (compiled)\n",
      "0.49615421891212463 (generic hf) | 0.4961360692977905 (compiled)\n",
      "0.02421962283551693 (generic hf) | 0.024653326719999313 (compiled)\n",
      "-0.00391228636726737 (generic hf) | -0.0019226372241973877 (compiled)\n",
      "-0.1948053538799286 (generic hf) | -0.19612383842468262 (compiled)\n",
      "0.08334580808877945 (generic hf) | 0.08408994227647781 (compiled)\n",
      "-0.5362082123756409 (generic hf) | -0.5375086665153503 (compiled)\n",
      "-0.3313121497631073 (generic hf) | -0.329944372177124 (compiled)\n",
      "0.43976521492004395 (generic hf) | 0.43932783603668213 (compiled)\n",
      "-0.1913875788450241 (generic hf) | -0.19289930164813995 (compiled)\n",
      "0.31021368503570557 (generic hf) | 0.31265178322792053 (compiled)\n",
      "0.034590642899274826 (generic hf) | 0.0344676598906517 (compiled)\n",
      "0.3896472752094269 (generic hf) | 0.3889705240726471 (compiled)\n",
      "-0.3609195053577423 (generic hf) | -0.36224424839019775 (compiled)\n",
      "0.2711632549762726 (generic hf) | 0.2718777656555176 (compiled)\n",
      "-0.17983165383338928 (generic hf) | -0.17721545696258545 (compiled)\n",
      "0.08881613612174988 (generic hf) | 0.08708485215902328 (compiled)\n",
      "-0.2374235838651657 (generic hf) | -0.2353358268737793 (compiled)\n",
      "0.19942186772823334 (generic hf) | 0.20057572424411774 (compiled)\n",
      "-0.1951114684343338 (generic hf) | -0.19600531458854675 (compiled)\n",
      "0.28228968381881714 (generic hf) | 0.2858004570007324 (compiled)\n",
      "0.19834080338478088 (generic hf) | 0.1967901587486267 (compiled)\n",
      "0.06274590641260147 (generic hf) | 0.06190003454685211 (compiled)\n",
      "0.4134000241756439 (generic hf) | 0.41182422637939453 (compiled)\n",
      "0.22924530506134033 (generic hf) | 0.2293042242527008 (compiled)\n",
      "0.018123235553503036 (generic hf) | 0.01751996949315071 (compiled)\n",
      "-0.08105109632015228 (generic hf) | -0.081207774579525 (compiled)\n",
      "-0.26057785749435425 (generic hf) | -0.2606857120990753 (compiled)\n",
      "-0.0186229906976223 (generic hf) | -0.018689651042222977 (compiled)\n",
      "0.1776997447013855 (generic hf) | 0.17872393131256104 (compiled)\n",
      "0.3689568042755127 (generic hf) | 0.3670698404312134 (compiled)\n",
      "0.10179097950458527 (generic hf) | 0.10042627155780792 (compiled)\n",
      "-0.365178644657135 (generic hf) | -0.3635610342025757 (compiled)\n",
      "-0.5446434020996094 (generic hf) | -0.5455548763275146 (compiled)\n",
      "-0.129705011844635 (generic hf) | -0.12904523313045502 (compiled)\n",
      "-0.0750640258193016 (generic hf) | -0.07330388575792313 (compiled)\n",
      "-0.02571292221546173 (generic hf) | -0.02607584558427334 (compiled)\n",
      "0.09465937316417694 (generic hf) | 0.0983065664768219 (compiled)\n",
      "-0.17411652207374573 (generic hf) | -0.17510230839252472 (compiled)\n",
      "0.09519229829311371 (generic hf) | 0.09587754309177399 (compiled)\n",
      "-0.12217105180025101 (generic hf) | -0.11858133971691132 (compiled)\n",
      "-0.004147963132709265 (generic hf) | -0.004710730165243149 (compiled)\n",
      "-0.3620050549507141 (generic hf) | -0.36325180530548096 (compiled)\n",
      "0.01843397505581379 (generic hf) | 0.015710093080997467 (compiled)\n",
      "-0.3157186806201935 (generic hf) | -0.3186371922492981 (compiled)\n",
      "-0.28787514567375183 (generic hf) | -0.2843211889266968 (compiled)\n",
      "-0.10499989986419678 (generic hf) | -0.10619926452636719 (compiled)\n",
      "-0.05580325052142143 (generic hf) | -0.054720234125852585 (compiled)\n",
      "0.12347140163183212 (generic hf) | 0.122103750705719 (compiled)\n",
      "0.16735555231571198 (generic hf) | 0.1650080680847168 (compiled)\n",
      "-0.26705402135849 (generic hf) | -0.2665770649909973 (compiled)\n",
      "0.048471443355083466 (generic hf) | 0.047682203352451324 (compiled)\n",
      "0.06406686455011368 (generic hf) | 0.060079023241996765 (compiled)\n",
      "0.27049022912979126 (generic hf) | 0.27340462803840637 (compiled)\n",
      "-0.06139809638261795 (generic hf) | -0.062305569648742676 (compiled)\n",
      "-0.1967516392469406 (generic hf) | -0.20066994428634644 (compiled)\n",
      "-0.11247818171977997 (generic hf) | -0.11316210776567459 (compiled)\n",
      "0.2938196659088135 (generic hf) | 0.29553428292274475 (compiled)\n",
      "-0.09969618171453476 (generic hf) | -0.10305467247962952 (compiled)\n",
      "-0.2648918926715851 (generic hf) | -0.26304513216018677 (compiled)\n",
      "-0.3673643171787262 (generic hf) | -0.3673149049282074 (compiled)\n",
      "0.5313104391098022 (generic hf) | 0.5281900763511658 (compiled)\n",
      "-0.04791247844696045 (generic hf) | -0.045860063284635544 (compiled)\n",
      "-0.03284237161278725 (generic hf) | -0.033874742686748505 (compiled)\n",
      "0.3570040464401245 (generic hf) | 0.35329991579055786 (compiled)\n",
      "-0.2031206637620926 (generic hf) | -0.20205272734165192 (compiled)\n",
      "0.13818834722042084 (generic hf) | 0.14088308811187744 (compiled)\n",
      "-0.2592563033103943 (generic hf) | -0.26061639189720154 (compiled)\n",
      "0.1340949684381485 (generic hf) | 0.13584807515144348 (compiled)\n",
      "0.1862340271472931 (generic hf) | 0.18653912842273712 (compiled)\n",
      "-0.1554781049489975 (generic hf) | -0.1583411693572998 (compiled)\n",
      "-0.14285092055797577 (generic hf) | -0.14688502252101898 (compiled)\n",
      "-0.2990834414958954 (generic hf) | -0.29876986145973206 (compiled)\n",
      "-0.004291238728910685 (generic hf) | -0.003998101688921452 (compiled)\n",
      "0.012641174718737602 (generic hf) | 0.010472550988197327 (compiled)\n",
      "0.05933532491326332 (generic hf) | 0.0611104853451252 (compiled)\n",
      "-0.07157952338457108 (generic hf) | -0.07308884710073471 (compiled)\n",
      "0.14555297791957855 (generic hf) | 0.1465626060962677 (compiled)\n",
      "-0.2757905125617981 (generic hf) | -0.27493318915367126 (compiled)\n",
      "0.048320889472961426 (generic hf) | 0.047405824065208435 (compiled)\n",
      "-0.13642092049121857 (generic hf) | -0.13783466815948486 (compiled)\n",
      "0.2802337408065796 (generic hf) | 0.2789742052555084 (compiled)\n",
      "0.02245178632438183 (generic hf) | 0.026123281568288803 (compiled)\n",
      "-0.3136425018310547 (generic hf) | -0.31525588035583496 (compiled)\n",
      "-0.252623051404953 (generic hf) | -0.2525780498981476 (compiled)\n",
      "-0.2253827303647995 (generic hf) | -0.2253226935863495 (compiled)\n",
      "0.1273508071899414 (generic hf) | 0.13158465921878815 (compiled)\n",
      "0.19969986379146576 (generic hf) | 0.2008194774389267 (compiled)\n",
      "-0.32150545716285706 (generic hf) | -0.32144224643707275 (compiled)\n",
      "0.18140675127506256 (generic hf) | 0.17885562777519226 (compiled)\n",
      "-0.0436287522315979 (generic hf) | -0.04231550917029381 (compiled)\n",
      "-0.26919475197792053 (generic hf) | -0.27118444442749023 (compiled)\n",
      "-0.010347097180783749 (generic hf) | -0.011437964625656605 (compiled)\n",
      "0.2952670156955719 (generic hf) | 0.2961644232273102 (compiled)\n",
      "-0.16973276436328888 (generic hf) | -0.165328711271286 (compiled)\n",
      "-0.39564841985702515 (generic hf) | -0.3976384997367859 (compiled)\n",
      "0.16234788298606873 (generic hf) | 0.16244706511497498 (compiled)\n",
      "0.06930873543024063 (generic hf) | 0.06865386664867401 (compiled)\n",
      "-0.3630851209163666 (generic hf) | -0.36210066080093384 (compiled)\n",
      "0.036567870527505875 (generic hf) | 0.03559476137161255 (compiled)\n",
      "-0.2083301842212677 (generic hf) | -0.2073235958814621 (compiled)\n",
      "0.08653315901756287 (generic hf) | 0.0854422077536583 (compiled)\n",
      "0.24614597856998444 (generic hf) | 0.2470823973417282 (compiled)\n",
      "-0.27831998467445374 (generic hf) | -0.2807353138923645 (compiled)\n",
      "0.024386432021856308 (generic hf) | 0.02607344463467598 (compiled)\n",
      "0.38899701833724976 (generic hf) | 0.3878597915172577 (compiled)\n",
      "-0.04553433880209923 (generic hf) | -0.043860919773578644 (compiled)\n",
      "0.4347841441631317 (generic hf) | 0.43219149112701416 (compiled)\n",
      "-0.33274099230766296 (generic hf) | -0.32958298921585083 (compiled)\n",
      "0.07479896396398544 (generic hf) | 0.07609483599662781 (compiled)\n",
      "0.11034398525953293 (generic hf) | 0.10575767606496811 (compiled)\n",
      "-0.48333409428596497 (generic hf) | -0.482687771320343 (compiled)\n",
      "-0.24723544716835022 (generic hf) | -0.24659796059131622 (compiled)\n",
      "0.23284262418746948 (generic hf) | 0.23022276163101196 (compiled)\n",
      "0.28551220893859863 (generic hf) | 0.2862762212753296 (compiled)\n",
      "0.1255924254655838 (generic hf) | 0.12339965999126434 (compiled)\n",
      "-0.01792292669415474 (generic hf) | -0.020876847207546234 (compiled)\n",
      "0.45008385181427 (generic hf) | 0.4486120641231537 (compiled)\n",
      "0.0717267245054245 (generic hf) | 0.07421896606683731 (compiled)\n",
      "0.1257762908935547 (generic hf) | 0.12820059061050415 (compiled)\n",
      "0.19830885529518127 (generic hf) | 0.1952371597290039 (compiled)\n",
      "-0.23420536518096924 (generic hf) | -0.2310982346534729 (compiled)\n",
      "-0.12407764792442322 (generic hf) | -0.1234048455953598 (compiled)\n",
      "-0.07226838916540146 (generic hf) | -0.07364200055599213 (compiled)\n",
      "0.2659676671028137 (generic hf) | 0.26700714230537415 (compiled)\n",
      "-0.028429361060261726 (generic hf) | -0.029907820746302605 (compiled)\n",
      "-0.6790346503257751 (generic hf) | -0.6768335700035095 (compiled)\n",
      "0.514137864112854 (generic hf) | 0.5151607394218445 (compiled)\n",
      "-0.1874861717224121 (generic hf) | -0.18533898890018463 (compiled)\n",
      "-0.1718846559524536 (generic hf) | -0.17170682549476624 (compiled)\n",
      "-0.025613389909267426 (generic hf) | -0.026941154152154922 (compiled)\n",
      "0.08813280612230301 (generic hf) | 0.08777876943349838 (compiled)\n",
      "0.2191891074180603 (generic hf) | 0.21951109170913696 (compiled)\n",
      "-0.36494016647338867 (generic hf) | -0.36746886372566223 (compiled)\n",
      "0.12114697694778442 (generic hf) | 0.12279141694307327 (compiled)\n",
      "-0.17807221412658691 (generic hf) | -0.1750965118408203 (compiled)\n",
      "-0.17818902432918549 (generic hf) | -0.17984639108181 (compiled)\n",
      "-0.014124204404652119 (generic hf) | -0.01156366616487503 (compiled)\n",
      "-0.3146854043006897 (generic hf) | -0.31057465076446533 (compiled)\n",
      "0.49002423882484436 (generic hf) | 0.49032843112945557 (compiled)\n",
      "0.37911492586135864 (generic hf) | 0.37887582182884216 (compiled)\n",
      "-0.33714455366134644 (generic hf) | -0.3363822400569916 (compiled)\n",
      "0.5564121007919312 (generic hf) | 0.5554181337356567 (compiled)\n",
      "-0.1004984900355339 (generic hf) | -0.1024053692817688 (compiled)\n",
      "-0.12208793312311172 (generic hf) | -0.11925254762172699 (compiled)\n",
      "-0.17983999848365784 (generic hf) | -0.18125438690185547 (compiled)\n",
      "0.17103232443332672 (generic hf) | 0.1759120225906372 (compiled)\n",
      "0.04146645963191986 (generic hf) | 0.041000641882419586 (compiled)\n",
      "0.11986177414655685 (generic hf) | 0.11832216382026672 (compiled)\n",
      "-0.1224202886223793 (generic hf) | -0.12253021448850632 (compiled)\n",
      "0.3053097724914551 (generic hf) | 0.305280476808548 (compiled)\n",
      "0.09073300659656525 (generic hf) | 0.09524153918027878 (compiled)\n",
      "0.14424185454845428 (generic hf) | 0.14425261318683624 (compiled)\n",
      "0.22322224080562592 (generic hf) | 0.22476334869861603 (compiled)\n",
      "-0.2021723985671997 (generic hf) | -0.20163553953170776 (compiled)\n",
      "0.4269365668296814 (generic hf) | 0.4273328483104706 (compiled)\n",
      "0.2523162364959717 (generic hf) | 0.25221142172813416 (compiled)\n",
      "-0.42148324847221375 (generic hf) | -0.42449626326560974 (compiled)\n",
      "-0.011370576918125153 (generic hf) | -0.012464933097362518 (compiled)\n",
      "0.17916148900985718 (generic hf) | 0.18037372827529907 (compiled)\n"
     ]
    }
   ],
   "source": [
    "token_index = 24# 0-24\n",
    "embedding_vector_range = (0,300) # 0-382,1-383\n",
    "\n",
    "for embedding_entry_hf, embedding_entry_compiled in zip(\n",
    "    hf_pipeline_output[0][token_index][embedding_vector_range[0]:embedding_vector_range[1]], \n",
    "    hf_compiled_pipeline_output[0][token_index][embedding_vector_range[0]:embedding_vector_range[1]]\n",
    "):\n",
    "    print(f'{embedding_entry_hf} (generic hf) | {embedding_entry_compiled} (compiled)')"
   ]
  },
  {
   "cell_type": "code",
   "execution_count": null,
   "metadata": {},
   "outputs": [],
   "source": []
  }
 ],
 "metadata": {
  "kernelspec": {
   "display_name": ".venv",
   "language": "python",
   "name": "python3"
  },
  "language_info": {
   "codemirror_mode": {
    "name": "ipython",
    "version": 3
   },
   "file_extension": ".py",
   "mimetype": "text/x-python",
   "name": "python",
   "nbconvert_exporter": "python",
   "pygments_lexer": "ipython3",
   "version": "3.8.16"
  },
  "orig_nbformat": 4
 },
 "nbformat": 4,
 "nbformat_minor": 2
}
